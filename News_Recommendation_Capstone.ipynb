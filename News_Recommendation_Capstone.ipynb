{
  "nbformat": 4,
  "nbformat_minor": 0,
  "metadata": {
    "colab": {
      "name": "News_Recommendation_Capstone.ipynb",
      "provenance": [],
      "collapsed_sections": [],
      "include_colab_link": true
    },
    "kernelspec": {
      "display_name": "Python 3",
      "language": "python",
      "name": "python3"
    },
    "language_info": {
      "codemirror_mode": {
        "name": "ipython",
        "version": 3
      },
      "file_extension": ".py",
      "mimetype": "text/x-python",
      "name": "python",
      "nbconvert_exporter": "python",
      "pygments_lexer": "ipython3",
      "version": "3.8.5"
    }
  },
  "cells": [
    {
      "cell_type": "markdown",
      "metadata": {
        "id": "view-in-github",
        "colab_type": "text"
      },
      "source": [
        "<a href=\"https://colab.research.google.com/github/sarbaniAi/Cloud-AI-ML/blob/main/News_Recommendation_Capstone.ipynb\" target=\"_parent\"><img src=\"https://colab.research.google.com/assets/colab-badge.svg\" alt=\"Open In Colab\"/></a>"
      ]
    },
    {
      "cell_type": "markdown",
      "metadata": {
        "id": "Ht8vMlDHKizr"
      },
      "source": [
        "# Collaborative Filtering: User Based Recommendations"
      ]
    },
    {
      "cell_type": "code",
      "metadata": {
        "id": "8FVwTlIaKiz1"
      },
      "source": [
        "import pandas as pd"
      ],
      "execution_count": null,
      "outputs": []
    },
    {
      "cell_type": "code",
      "metadata": {
        "id": "0NAhR5Z_Kiz3"
      },
      "source": [
        "import numpy as np"
      ],
      "execution_count": null,
      "outputs": []
    },
    {
      "cell_type": "markdown",
      "metadata": {
        "id": "COwKL5nJKiz3"
      },
      "source": [
        "### Load plat_cont_en_prsnt Data"
      ]
    },
    {
      "cell_type": "code",
      "metadata": {
        "id": "SatfPycEKiz4"
      },
      "source": [
        "#plat_cont_en_prsnt = pd.read_csv('news_genres_final.csv')\n",
        "from google.colab import drive\n",
        "drive.mount('/content/drive')"
      ],
      "execution_count": null,
      "outputs": []
    },
    {
      "cell_type": "code",
      "metadata": {
        "id": "f6x1ECDhHYW4"
      },
      "source": [
        "consumer_tx = pd.read_csv(\"/content/drive/MyDrive/consumer_transanctions.csv\")"
      ],
      "execution_count": null,
      "outputs": []
    },
    {
      "cell_type": "code",
      "metadata": {
        "id": "_d_zPSrNKiz4"
      },
      "source": [
        "consumer_tx.head()"
      ],
      "execution_count": null,
      "outputs": []
    },
    {
      "cell_type": "code",
      "metadata": {
        "id": "nR0H5qQfKiz6"
      },
      "source": [
        "consumer_tx.shape"
      ],
      "execution_count": null,
      "outputs": []
    },
    {
      "cell_type": "code",
      "metadata": {
        "id": "vQGfl1tjKiz7"
      },
      "source": [
        "consumer_tx.columns"
      ],
      "execution_count": null,
      "outputs": []
    },
    {
      "cell_type": "code",
      "metadata": {
        "id": "ronnksafKiz8"
      },
      "source": [
        "platform_content = pd.read_csv(\"/content/drive/MyDrive/platform_content.csv\")"
      ],
      "execution_count": null,
      "outputs": []
    },
    {
      "cell_type": "code",
      "metadata": {
        "id": "KYIef6vZKiz9"
      },
      "source": [
        "print(platform_content.shape)\n",
        "print(platform_content.columns)\n"
      ],
      "execution_count": null,
      "outputs": []
    },
    {
      "cell_type": "code",
      "metadata": {
        "id": "rIVLIA4lH6dj"
      },
      "source": [
        "pd.set_option('max_colwidth', None)"
      ],
      "execution_count": null,
      "outputs": []
    },
    {
      "cell_type": "code",
      "metadata": {
        "id": "fzL_a3BKH-08"
      },
      "source": [
        "platform_content.head()"
      ],
      "execution_count": null,
      "outputs": []
    },
    {
      "cell_type": "code",
      "metadata": {
        "id": "y3WJ0NCqLH-C"
      },
      "source": [
        ""
      ],
      "execution_count": null,
      "outputs": []
    },
    {
      "cell_type": "markdown",
      "metadata": {
        "id": "Ru0dUobWhr3R"
      },
      "source": [
        "### Use the ‘platform_content’ data to extract the data set that contains the English articles present on the platform."
      ]
    },
    {
      "cell_type": "code",
      "metadata": {
        "id": "3J0yt5sGLeB6"
      },
      "source": [
        "platform_content[\"language\"].value_counts()"
      ],
      "execution_count": null,
      "outputs": []
    },
    {
      "cell_type": "code",
      "metadata": {
        "id": "A9NUIgbk-0an"
      },
      "source": [
        "platform_content.info()"
      ],
      "execution_count": null,
      "outputs": []
    },
    {
      "cell_type": "code",
      "metadata": {
        "id": "GJXqI7GhS7EE"
      },
      "source": [
        "platform_content[\"interaction_type\"].value_counts()"
      ],
      "execution_count": null,
      "outputs": []
    },
    {
      "cell_type": "code",
      "metadata": {
        "id": "zMVERzGMgjEk"
      },
      "source": [
        "platform_content[\"item_type\"].value_counts()"
      ],
      "execution_count": null,
      "outputs": []
    },
    {
      "cell_type": "markdown",
      "metadata": {
        "id": "MlZFWEpPhdRg"
      },
      "source": [
        " - I have to ensure that the system does not recommend any news article that has been pulled out from the app or has already been seen by the user.\n",
        "\n",
        " - In addition, only the articles that are written in the English language must be considered for content-based recommendations.\n",
        "\n",
        "### Dataset -> plat_cont_en_prsnt\n",
        "\n",
        "\n",
        " - The final generated list must contain the names of the recommended articles, along with their IDs."
      ]
    },
    {
      "cell_type": "code",
      "metadata": {
        "id": "hbW_BUHxgn7S"
      },
      "source": [
        "plat_cont_en_prsnt = platform_content[(platform_content[\"language\"] == \"en\") & (platform_content[\"interaction_type\"] == \"content_present\")]\n",
        "\n",
        "print(plat_cont_en_prsnt.shape)"
      ],
      "execution_count": null,
      "outputs": []
    },
    {
      "cell_type": "markdown",
      "metadata": {
        "id": "w_iZa3nlrdUw"
      },
      "source": [
        "### Data pre-processing consumer transactionn data -> user content data "
      ]
    },
    {
      "cell_type": "markdown",
      "metadata": {
        "id": "HfrUG9VkrIs4"
      },
      "source": [
        "#### Extract Rating\n",
        "\n",
        "The data set provided to you does not contain user ratings that could be used to generate recommendations. For that you need to impute the rating values based on the feature ‘interaction type’ with the highest weightage to content_followed, followed by content_commented_on, content saved, content liked and content_watched. The final data set ‘consumer_interactions’ that will be used to build the recommendation system should contain a feature called ‘ratings’ along with other features that are required to build the ALS, user-based and item-based collaborative filtering models."
      ]
    },
    {
      "cell_type": "code",
      "metadata": {
        "id": "8FonJTX1leYS"
      },
      "source": [
        "print(consumer_tx.info())\n",
        "print(\"***************\\n\")\n",
        "print(consumer_tx[\"interaction_type\"].value_counts())"
      ],
      "execution_count": null,
      "outputs": []
    },
    {
      "cell_type": "code",
      "metadata": {
        "id": "UqZeJ3DjKazh"
      },
      "source": [
        "consumer_tx.groupby([\"consumer_id\", \"item_id\"]).count()\n"
      ],
      "execution_count": null,
      "outputs": []
    },
    {
      "cell_type": "markdown",
      "metadata": {
        "id": "VCHmfhQoKBOv"
      },
      "source": [
        "* content_watched         1\n",
        "* content_liked          2 \n",
        "* content_saved         3  \n",
        "* content_commented_on   4  \n",
        "* content_followed     5"
      ]
    },
    {
      "cell_type": "code",
      "metadata": {
        "id": "g2vKDjOVKa4d"
      },
      "source": [
        "cleanup_nums = {\"interaction_type\": {\"content_watched\": 1, \"content_liked\": 2,  \"content_saved\": 3, \"content_commented_on\": 4, \"content_followed\": 5,}}\n",
        "\n",
        "consumer_tx[\"interaction_type\"] = consumer_tx.replace(cleanup_nums)[\"interaction_type\"];"
      ],
      "execution_count": null,
      "outputs": []
    },
    {
      "cell_type": "code",
      "metadata": {
        "id": "CqkVe6yDKa9n"
      },
      "source": [
        "consumer_tx.head()"
      ],
      "execution_count": null,
      "outputs": []
    },
    {
      "cell_type": "code",
      "metadata": {
        "id": "yJdv0B8NKbFQ"
      },
      "source": [
        "print(consumer_tx[\"consumer_id\"].value_counts())\n",
        "print(consumer_tx[\"item_id\"].value_counts())"
      ],
      "execution_count": null,
      "outputs": []
    },
    {
      "cell_type": "code",
      "metadata": {
        "id": "3hUyvGwFQDH9"
      },
      "source": [
        "consumer_rating = consumer_tx.groupby(['consumer_id', 'item_id' ], as_index = False).agg({'interaction_type':'mean'}).reset_index().round({'interaction_type': 0})\n",
        "\n",
        "#consumer_rating.to_csv(\"test.csv\")\n"
      ],
      "execution_count": null,
      "outputs": []
    },
    {
      "cell_type": "code",
      "metadata": {
        "id": "mvoQ4imsWzEw"
      },
      "source": [
        "consumer_rating[consumer_rating[\"consumer_id\"] == -9223121837663643404]"
      ],
      "execution_count": null,
      "outputs": []
    },
    {
      "cell_type": "code",
      "metadata": {
        "id": "axK77vopLISf"
      },
      "source": [
        ""
      ],
      "execution_count": null,
      "outputs": []
    },
    {
      "cell_type": "markdown",
      "metadata": {
        "id": "subi0jvbKi0A"
      },
      "source": [
        "## Load Ratings Data"
      ]
    },
    {
      "cell_type": "code",
      "metadata": {
        "id": "klGIp8m3Ki0A"
      },
      "source": [
        "#ratings = pd.read_csv('ratings.csv')"
      ],
      "execution_count": null,
      "outputs": []
    },
    {
      "cell_type": "code",
      "metadata": {
        "id": "OiWCXVvUKi0B"
      },
      "source": [
        "consumer_rating.shape"
      ],
      "execution_count": null,
      "outputs": []
    },
    {
      "cell_type": "markdown",
      "metadata": {
        "id": "wuKKoumtVNKU"
      },
      "source": [
        "### Extracting consumer id in seprate table"
      ]
    },
    {
      "cell_type": "code",
      "metadata": {
        "id": "xm_1csuIU_5w"
      },
      "source": [
        "consumer_id_tbl = consumer_rating[\"consumer_id\"]"
      ],
      "execution_count": null,
      "outputs": []
    },
    {
      "cell_type": "code",
      "metadata": {
        "id": "tKMKEi5VVMeu"
      },
      "source": [
        "consumer_id_tbl_un = consumer_id_tbl.unique()"
      ],
      "execution_count": null,
      "outputs": []
    },
    {
      "cell_type": "markdown",
      "metadata": {
        "id": "7VndFSeyVkns"
      },
      "source": [
        "### create unique of consumer od"
      ]
    },
    {
      "cell_type": "code",
      "metadata": {
        "id": "qaZH8hUhVjn0"
      },
      "source": [
        "consumer_id_tbl_un"
      ],
      "execution_count": null,
      "outputs": []
    },
    {
      "cell_type": "code",
      "metadata": {
        "id": "JPdvtnoeKi0C"
      },
      "source": [
        "\n",
        "consumer_rating.consumer_id = pd.Categorical(consumer_rating.consumer_id)\n"
      ],
      "execution_count": null,
      "outputs": []
    },
    {
      "cell_type": "code",
      "metadata": {
        "id": "wKCmViCFYBef"
      },
      "source": [
        "consumer_rating[\"consumer_code\"] = consumer_rating.consumer_id.cat.codes"
      ],
      "execution_count": null,
      "outputs": []
    },
    {
      "cell_type": "code",
      "metadata": {
        "id": "zIssz05qKi0C"
      },
      "source": [
        "consumer_rating.head()"
      ],
      "execution_count": null,
      "outputs": []
    },
    {
      "cell_type": "code",
      "metadata": {
        "id": "jk73VaOGYevn"
      },
      "source": [
        "consumer_rating.item_id = pd.Categorical(consumer_rating.item_id)\n",
        "consumer_rating[\"item_code\"] = consumer_rating.item_id.cat.codes\n"
      ],
      "execution_count": null,
      "outputs": []
    },
    {
      "cell_type": "code",
      "metadata": {
        "id": "bmnAkmbhKi0D"
      },
      "source": [
        "consumer_rating.head()"
      ],
      "execution_count": null,
      "outputs": []
    },
    {
      "cell_type": "code",
      "metadata": {
        "id": "d4TDPHqjY9NW"
      },
      "source": [
        "consumer_rating.drop(['index'], axis=1, inplace=True)"
      ],
      "execution_count": null,
      "outputs": []
    },
    {
      "cell_type": "code",
      "metadata": {
        "id": "1RE_fwrsKi0D"
      },
      "source": [
        "n_users = consumer_rating.consumer_id.nunique()\n",
        "\n",
        "n_items = consumer_rating.item_id.nunique()"
      ],
      "execution_count": null,
      "outputs": []
    },
    {
      "cell_type": "code",
      "metadata": {
        "id": "v_53S5zLKi0E"
      },
      "source": [
        "n_users"
      ],
      "execution_count": null,
      "outputs": []
    },
    {
      "cell_type": "code",
      "metadata": {
        "id": "-w0RnuOuKi0E",
        "scrolled": true
      },
      "source": [
        "n_items"
      ],
      "execution_count": null,
      "outputs": []
    },
    {
      "cell_type": "code",
      "metadata": {
        "id": "E4I8GIvJPeB3"
      },
      "source": [
        "n_users * n_items"
      ],
      "execution_count": null,
      "outputs": []
    },
    {
      "cell_type": "markdown",
      "metadata": {
        "id": "2UVMkWutKi0F"
      },
      "source": [
        "## Dividing the dataset into train and test"
      ]
    },
    {
      "cell_type": "code",
      "metadata": {
        "id": "0qeuVweXKi0F"
      },
      "source": [
        ""
      ],
      "execution_count": null,
      "outputs": []
    },
    {
      "cell_type": "code",
      "metadata": {
        "id": "4ZZpwdSOKi0F"
      },
      "source": [
        "from sklearn.model_selection import train_test_split\n",
        "train, test = train_test_split(consumer_rating, test_size=0.30, random_state=31)"
      ],
      "execution_count": null,
      "outputs": []
    },
    {
      "cell_type": "code",
      "metadata": {
        "id": "_ghTYdrBKi0G"
      },
      "source": [
        ""
      ],
      "execution_count": null,
      "outputs": []
    },
    {
      "cell_type": "code",
      "metadata": {
        "id": "4PFJJ-RMKi0G"
      },
      "source": [
        "print(train.shape)\n",
        "print(test.shape)"
      ],
      "execution_count": null,
      "outputs": []
    },
    {
      "cell_type": "code",
      "metadata": {
        "id": "SOfsvoMrKi0G"
      },
      "source": [
        "consumer_rating.shape"
      ],
      "execution_count": null,
      "outputs": []
    },
    {
      "cell_type": "code",
      "metadata": {
        "id": "dZFcag_nKi0G"
      },
      "source": [
        "train.head()"
      ],
      "execution_count": null,
      "outputs": []
    },
    {
      "cell_type": "code",
      "metadata": {
        "id": "Kw31zMi5Ki0H"
      },
      "source": [
        "test.head()"
      ],
      "execution_count": null,
      "outputs": []
    },
    {
      "cell_type": "code",
      "metadata": {
        "id": "COmSmoFrKi0H"
      },
      "source": [
        ""
      ],
      "execution_count": null,
      "outputs": []
    },
    {
      "cell_type": "code",
      "metadata": {
        "id": "xvoEIgY3-xgR"
      },
      "source": [
        "# Copy the train dataset into dummy_train\n",
        "dummy_train = train.copy()"
      ],
      "execution_count": null,
      "outputs": []
    },
    {
      "cell_type": "code",
      "metadata": {
        "id": "u3wmNypX-xgR"
      },
      "source": [
        "# The movies not rated by user is marked as 1 for prediction. \n",
        "dummy_train['interaction_type'] = dummy_train['interaction_type'].apply(lambda x: 0 if x>=1 else 1)"
      ],
      "execution_count": null,
      "outputs": []
    },
    {
      "cell_type": "code",
      "metadata": {
        "id": "ZPafxES3-xgS"
      },
      "source": [
        "# Convert the dummy train dataset into matrix format.\n",
        "dummy_train = dummy_train.pivot(\n",
        "    index='consumer_code',\n",
        "    columns='item_code',\n",
        "    values='interaction_type'\n",
        ").fillna(1)"
      ],
      "execution_count": null,
      "outputs": []
    },
    {
      "cell_type": "markdown",
      "metadata": {
        "id": "aBMNw7AzKi0H"
      },
      "source": [
        "## Create empty data matrix: user*news"
      ]
    },
    {
      "cell_type": "code",
      "metadata": {
        "id": "XxeJPW5XKi0H"
      },
      "source": [
        ""
      ],
      "execution_count": null,
      "outputs": []
    },
    {
      "cell_type": "code",
      "metadata": {
        "id": "SdlLkhVAKi0H"
      },
      "source": [
        "data_matrix = np.zeros((n_users, n_items))\n"
      ],
      "execution_count": null,
      "outputs": []
    },
    {
      "cell_type": "code",
      "metadata": {
        "id": "VH2BjPnSKi0I"
      },
      "source": [
        "data_matrix"
      ],
      "execution_count": null,
      "outputs": []
    },
    {
      "cell_type": "code",
      "metadata": {
        "id": "IroIl-tFKi0I"
      },
      "source": [
        ""
      ],
      "execution_count": null,
      "outputs": []
    },
    {
      "cell_type": "code",
      "metadata": {
        "id": "zTt7QwdIKi0I",
        "scrolled": true
      },
      "source": [
        "data_matrix.shape   "
      ],
      "execution_count": null,
      "outputs": []
    },
    {
      "cell_type": "code",
      "metadata": {
        "id": "f1tgFEcKKi0J"
      },
      "source": [
        ""
      ],
      "execution_count": null,
      "outputs": []
    },
    {
      "cell_type": "markdown",
      "metadata": {
        "id": "UpnvLWAZKi0J"
      },
      "source": [
        "## Fill user*news Train matrix with rating values"
      ]
    },
    {
      "cell_type": "code",
      "metadata": {
        "id": "BHeFRSwdKi0J"
      },
      "source": [
        "for line in train.itertuples():\n",
        "    #print(line)\n",
        "    #print(line[3])\n",
        "    #print(line[4]) \n",
        "    #print(data_matrix[line[1]-1, line[2]-1])\n",
        "    #print(line[3])\n",
        "    data_matrix[line[4], line[5]] = line[3]\n"
      ],
      "execution_count": null,
      "outputs": []
    },
    {
      "cell_type": "code",
      "metadata": {
        "id": "0K2cykp_Ki0J"
      },
      "source": [
        "data_matrix"
      ],
      "execution_count": null,
      "outputs": []
    },
    {
      "cell_type": "code",
      "metadata": {
        "id": "blGE64_MKi0K",
        "scrolled": true
      },
      "source": [
        "data_matrix.shape"
      ],
      "execution_count": null,
      "outputs": []
    },
    {
      "cell_type": "markdown",
      "metadata": {
        "id": "q9KOD79UKi0K"
      },
      "source": [
        "## Create Data Matrix with Test Data"
      ]
    },
    {
      "cell_type": "code",
      "metadata": {
        "id": "QCRQFXORKi0K"
      },
      "source": [
        "data_matrix_test = np.zeros((n_users, n_items))"
      ],
      "execution_count": null,
      "outputs": []
    },
    {
      "cell_type": "code",
      "metadata": {
        "id": "RA5tujnHKi0K"
      },
      "source": [
        "data_matrix_test"
      ],
      "execution_count": null,
      "outputs": []
    },
    {
      "cell_type": "code",
      "metadata": {
        "id": "wkmpgNm2Ki0K"
      },
      "source": [
        "for line in test.itertuples():\n",
        "    data_matrix_test[line[4], line[5]] = line[3]"
      ],
      "execution_count": null,
      "outputs": []
    },
    {
      "cell_type": "code",
      "metadata": {
        "id": "mVbZRsRsKi0L"
      },
      "source": [
        "data_matrix_test.shape"
      ],
      "execution_count": null,
      "outputs": []
    },
    {
      "cell_type": "code",
      "metadata": {
        "id": "PSY07wVaKi0L"
      },
      "source": [
        "data_matrix_test"
      ],
      "execution_count": null,
      "outputs": []
    },
    {
      "cell_type": "markdown",
      "metadata": {
        "id": "WDc4byVyKi0L"
      },
      "source": [
        "### Create Data Matrix with full data"
      ]
    },
    {
      "cell_type": "code",
      "metadata": {
        "id": "z-jRGDP3Ki0L"
      },
      "source": [
        "data_matrix_full = np.zeros((n_users, n_items))\n"
      ],
      "execution_count": null,
      "outputs": []
    },
    {
      "cell_type": "code",
      "metadata": {
        "id": "v9b8XgHpKi0M"
      },
      "source": [
        "for line in consumer_rating.itertuples():\n",
        "    data_matrix_full[line[4], line[5]] = line[3]\n"
      ],
      "execution_count": null,
      "outputs": []
    },
    {
      "cell_type": "code",
      "metadata": {
        "id": "6EvWR-t2Ki0M"
      },
      "source": [
        "data_matrix_full"
      ],
      "execution_count": null,
      "outputs": []
    },
    {
      "cell_type": "code",
      "metadata": {
        "id": "FlwpE7qkKi0M"
      },
      "source": [
        "data_matrix_full.shape"
      ],
      "execution_count": null,
      "outputs": []
    },
    {
      "cell_type": "markdown",
      "metadata": {
        "id": "TzMGXL6BKi0M"
      },
      "source": [
        "# Pairwise Distance"
      ]
    },
    {
      "cell_type": "code",
      "metadata": {
        "id": "n200bUcoKi0N"
      },
      "source": [
        "from sklearn.metrics.pairwise import pairwise_distances "
      ],
      "execution_count": null,
      "outputs": []
    },
    {
      "cell_type": "code",
      "metadata": {
        "id": "Ntbew6G0Ki0N"
      },
      "source": [
        "\n",
        "user_similarity = 1- pairwise_distances(data_matrix, metric='cosine')\n"
      ],
      "execution_count": null,
      "outputs": []
    },
    {
      "cell_type": "code",
      "metadata": {
        "id": "S4xRmD4nKi0N"
      },
      "source": [
        "user_similarity"
      ],
      "execution_count": null,
      "outputs": []
    },
    {
      "cell_type": "code",
      "metadata": {
        "id": "kHwPsPKYKi0N"
      },
      "source": [
        "user_similarity.shape"
      ],
      "execution_count": null,
      "outputs": []
    },
    {
      "cell_type": "markdown",
      "metadata": {
        "id": "dbxnAklSApkW"
      },
      "source": [
        "### Here, we are not removing the NaN values and calculating the mean\n",
        "only for the movies rated by the user. Will be used later after user based prediction "
      ]
    },
    {
      "cell_type": "code",
      "metadata": {
        "id": "HDuxZPuMAWm5"
      },
      "source": [
        ""
      ],
      "execution_count": null,
      "outputs": []
    },
    {
      "cell_type": "code",
      "metadata": {
        "id": "9wFAw9hZKi0O"
      },
      "source": [
        "data_matrix.shape"
      ],
      "execution_count": null,
      "outputs": []
    },
    {
      "cell_type": "code",
      "metadata": {
        "id": "Wg0Chzu3Ki0O"
      },
      "source": [
        "data_matrix.T"
      ],
      "execution_count": null,
      "outputs": []
    },
    {
      "cell_type": "code",
      "metadata": {
        "id": "iYUWETqqKi0O"
      },
      "source": [
        "data_matrix.T.shape"
      ],
      "execution_count": null,
      "outputs": []
    },
    {
      "cell_type": "markdown",
      "metadata": {
        "id": "VjIwkZEuKi0P"
      },
      "source": [
        "## plat_cont_en_prsnt pairwise similarity distance"
      ]
    },
    {
      "cell_type": "code",
      "metadata": {
        "id": "66IEcgc8Ki0P"
      },
      "source": [
        "item_similarity = 1-pairwise_distances(data_matrix.T, metric='cosine')"
      ],
      "execution_count": null,
      "outputs": []
    },
    {
      "cell_type": "code",
      "metadata": {
        "id": "8q95Pe_0Ki0Q"
      },
      "source": [
        "item_similarity"
      ],
      "execution_count": null,
      "outputs": []
    },
    {
      "cell_type": "code",
      "metadata": {
        "id": "JV1LuGiSKi0R"
      },
      "source": [
        "item_similarity.shape"
      ],
      "execution_count": null,
      "outputs": []
    },
    {
      "cell_type": "markdown",
      "metadata": {
        "id": "fXdX-qBiKi0R"
      },
      "source": [
        "## Dot product of Data Matrix with similarity matrix"
      ]
    },
    {
      "cell_type": "code",
      "metadata": {
        "id": "5g7M-W0dKi0S"
      },
      "source": [
        "item_prediction = np.dot(user_similarity, data_matrix_test)"
      ],
      "execution_count": null,
      "outputs": []
    },
    {
      "cell_type": "code",
      "metadata": {
        "id": "7hl7r13KKi0S"
      },
      "source": [
        ""
      ],
      "execution_count": null,
      "outputs": []
    },
    {
      "cell_type": "code",
      "metadata": {
        "id": "X1SOPhCpKi0T"
      },
      "source": [
        "item_prediction"
      ],
      "execution_count": null,
      "outputs": []
    },
    {
      "cell_type": "code",
      "metadata": {
        "id": "f2WPARbqKi0T"
      },
      "source": [
        "item_prediction.shape"
      ],
      "execution_count": null,
      "outputs": []
    },
    {
      "cell_type": "code",
      "metadata": {
        "id": "31WBOH4nKi0U"
      },
      "source": [
        "prediction_df = pd.DataFrame(item_prediction)"
      ],
      "execution_count": null,
      "outputs": []
    },
    {
      "cell_type": "code",
      "metadata": {
        "id": "dgMCj5iCKi0V"
      },
      "source": [
        "prediction_df.head(1000)"
      ],
      "execution_count": null,
      "outputs": []
    },
    {
      "cell_type": "code",
      "metadata": {
        "id": "fEYk-Fg2Ki0V"
      },
      "source": [
        "prediction_df.shape"
      ],
      "execution_count": null,
      "outputs": []
    },
    {
      "cell_type": "markdown",
      "metadata": {
        "id": "gS4E-kTeKi0W"
      },
      "source": [
        "## Get recommended news articles for specific user "
      ]
    },
    {
      "cell_type": "code",
      "metadata": {
        "id": "4T9POOgGKi0W"
      },
      "source": [
        "prediction_df.iloc[1313]"
      ],
      "execution_count": null,
      "outputs": []
    },
    {
      "cell_type": "markdown",
      "metadata": {
        "id": "oZgNjcRqga68"
      },
      "source": [
        "### Sample Test with random consumer_id/Consumer_code"
      ]
    },
    {
      "cell_type": "code",
      "metadata": {
        "id": "cgSAXQwbU2XG"
      },
      "source": [
        "consumer_rating.loc[(consumer_rating[\"consumer_code\"] == 1313) & (consumer_rating[\"interaction_type\"] == 3)]"
      ],
      "execution_count": null,
      "outputs": []
    },
    {
      "cell_type": "code",
      "metadata": {
        "id": "8Hoj_ZGpfoYj"
      },
      "source": [
        "platform_content.loc[platform_content[\"item_id\"] == -3662111110237135231\t]"
      ],
      "execution_count": null,
      "outputs": []
    },
    {
      "cell_type": "markdown",
      "metadata": {
        "id": "OywbADYOOCLU"
      },
      "source": [
        "## Do not recommend any news which is already rated by the user"
      ]
    },
    {
      "cell_type": "markdown",
      "metadata": {
        "id": "V_IARWNGT75x"
      },
      "source": [
        "### The original list of news alreday rated by the user =1313 -> \n",
        "original_recommend_by_usr"
      ]
    },
    {
      "cell_type": "code",
      "metadata": {
        "id": "LotQJBNkNdlY"
      },
      "source": [
        "original_recommend_by_usr = consumer_rating[(consumer_rating[\"consumer_code\"] == 1313)][\"item_code\"].unique()"
      ],
      "execution_count": null,
      "outputs": []
    },
    {
      "cell_type": "code",
      "metadata": {
        "id": "PxnQ9jhpPHJG"
      },
      "source": [
        "\n",
        "original_recommend_by_usr"
      ],
      "execution_count": null,
      "outputs": []
    },
    {
      "cell_type": "markdown",
      "metadata": {
        "id": "VOtP6_GJlIfL"
      },
      "source": [
        "### Prediction of top 10 News Items for specific consumer id "
      ]
    },
    {
      "cell_type": "code",
      "metadata": {
        "id": "CVhDAkNzKi0X",
        "scrolled": true
      },
      "source": [
        "#sort top 10 news items\n",
        "prediction_df.iloc[1313].sort_values(ascending=False)[:10]"
      ],
      "execution_count": null,
      "outputs": []
    },
    {
      "cell_type": "code",
      "metadata": {
        "id": "LJ-SqaJgKi0X"
      },
      "source": [
        "recommended_news_df = pd.DataFrame(prediction_df.iloc[1313].sort_values(ascending=False))"
      ],
      "execution_count": null,
      "outputs": []
    },
    {
      "cell_type": "code",
      "metadata": {
        "id": "vpzLKSuYKi0Y"
      },
      "source": [
        "recommended_news_df.head()"
      ],
      "execution_count": null,
      "outputs": []
    },
    {
      "cell_type": "code",
      "metadata": {
        "id": "NXdT3OtSKi0Y"
      },
      "source": [
        "recommended_news_df.reset_index(inplace=True)"
      ],
      "execution_count": null,
      "outputs": []
    },
    {
      "cell_type": "code",
      "metadata": {
        "id": "a1jaDuRAKi0Z"
      },
      "source": [
        "recommended_news_df.head()"
      ],
      "execution_count": null,
      "outputs": []
    },
    {
      "cell_type": "markdown",
      "metadata": {
        "id": "XvivIgA5Touj"
      },
      "source": [
        "### The final recommendations after removing the news which are already rated by the user = 1313"
      ]
    },
    {
      "cell_type": "code",
      "metadata": {
        "id": "RhqG7PgeR6MO"
      },
      "source": [
        "recommended_news_df[~ recommended_news_df.iloc[:,0].isin(original_recommend_by_usr)].head()\n",
        "#recommended_news_df.iloc[:,0]"
      ],
      "execution_count": null,
      "outputs": []
    },
    {
      "cell_type": "code",
      "metadata": {
        "id": "CVbW_IU_Ki0a"
      },
      "source": [
        "#random test with item_code\n",
        "consumer_rating.loc[(consumer_rating[\"item_code\"] == 844)]"
      ],
      "execution_count": null,
      "outputs": []
    },
    {
      "cell_type": "code",
      "metadata": {
        "id": "mhAu5Pn7mURg"
      },
      "source": [
        " #creating dataset with item_Code & item_id mapping\n",
        " consum_item_cd_id = consumer_rating[['item_code', 'item_id']]"
      ],
      "execution_count": null,
      "outputs": []
    },
    {
      "cell_type": "code",
      "metadata": {
        "id": "aOvh-vP6qEBL"
      },
      "source": [
        "consum_item_cd_id"
      ],
      "execution_count": null,
      "outputs": []
    },
    {
      "cell_type": "code",
      "metadata": {
        "id": "s8NaS0P2mjVp"
      },
      "source": [
        "consum_item_cd_id.loc[(consum_item_cd_id[\"item_code\"] == 844)]"
      ],
      "execution_count": null,
      "outputs": []
    },
    {
      "cell_type": "code",
      "metadata": {
        "id": "PfIIh3-5mja7"
      },
      "source": [
        "consum_item_cd_id.shape"
      ],
      "execution_count": null,
      "outputs": []
    },
    {
      "cell_type": "code",
      "metadata": {
        "id": "9WM3jP-knVut"
      },
      "source": [
        "# sorting by item_code\n",
        "consum_item_cd_id.sort_values(\"item_code\", inplace = True)\n",
        " \n",
        "# dropping ALL duplicate values\n",
        "consum_item_cd_id.drop_duplicates(subset =\"item_code\", keep = 'first', inplace = True)\n",
        " \n",
        "# displaying data\n",
        "consum_item_cd_id.shape"
      ],
      "execution_count": null,
      "outputs": []
    },
    {
      "cell_type": "code",
      "metadata": {
        "id": "SSOzFzbyqq3x"
      },
      "source": [
        "#test with sample item_code\n",
        "consum_item_cd_id.loc[(consum_item_cd_id[\"item_code\"] == 844)]\n"
      ],
      "execution_count": null,
      "outputs": []
    },
    {
      "cell_type": "code",
      "metadata": {
        "id": "Hs_mBgZEq18z"
      },
      "source": [
        "consum_item_cd_id.shape"
      ],
      "execution_count": null,
      "outputs": []
    },
    {
      "cell_type": "markdown",
      "metadata": {
        "id": "pE1fRKG5s3rF"
      },
      "source": [
        "### Prediction of top 10 news articles with title & description from platform_content dataframe"
      ]
    },
    {
      "cell_type": "code",
      "metadata": {
        "id": "FMIza3MZKi0a"
      },
      "source": [
        "recommended_news_df.columns = ['item_code', 'score']"
      ],
      "execution_count": null,
      "outputs": []
    },
    {
      "cell_type": "code",
      "metadata": {
        "id": "D9Cu-egvKi0a"
      },
      "source": [
        "recommended_news_top10 = recommended_news_df.head(10)"
      ],
      "execution_count": null,
      "outputs": []
    },
    {
      "cell_type": "code",
      "metadata": {
        "id": "oIylLla3Ki0b"
      },
      "source": [
        "recommended_news_top10\n"
      ],
      "execution_count": null,
      "outputs": []
    },
    {
      "cell_type": "markdown",
      "metadata": {
        "id": "w8VzjaBxKi0b"
      },
      "source": [
        "## Merge news id with news title"
      ]
    },
    {
      "cell_type": "code",
      "metadata": {
        "id": "UF3WYUrWMysO"
      },
      "source": [
        ""
      ],
      "execution_count": null,
      "outputs": []
    },
    {
      "cell_type": "code",
      "metadata": {
        "id": "lcn7x1aXKi0b"
      },
      "source": [
        "merged = pd.merge(recommended_news_top10, consum_item_cd_id, on='item_code', how='inner')"
      ],
      "execution_count": null,
      "outputs": []
    },
    {
      "cell_type": "code",
      "metadata": {
        "id": "hOKwbUxpKi0c"
      },
      "source": [
        "merged\n"
      ],
      "execution_count": null,
      "outputs": []
    },
    {
      "cell_type": "code",
      "metadata": {
        "id": "YfXcT8TioIyU"
      },
      "source": [
        "merged"
      ],
      "execution_count": null,
      "outputs": []
    },
    {
      "cell_type": "markdown",
      "metadata": {
        "id": "1uuZZp-q0-JV"
      },
      "source": [
        "### Recommemend the news which are in english and currently present in the platform ->\n",
        "\n",
        "use the dataframe plat_cont_en_prsnt for merging the item_id"
      ]
    },
    {
      "cell_type": "code",
      "metadata": {
        "id": "viGd9BaNKi0k"
      },
      "source": [
        "#merged = pd.merge(merged, platform_content, on='item_id', how='left')\n",
        "\n",
        "merged = pd.merge(merged, plat_cont_en_prsnt, on='item_id', how='left') "
      ],
      "execution_count": null,
      "outputs": []
    },
    {
      "cell_type": "markdown",
      "metadata": {
        "id": "_RnTNroO7eCL"
      },
      "source": [
        "### Since we are interested only in the news  not rated by the user, we will ignore the news rated by the user by making it zero."
      ]
    },
    {
      "cell_type": "code",
      "metadata": {
        "id": "8gtZqsIpDAO4"
      },
      "source": [
        "\n",
        "#user_similarity[np.isnan(user_similarity)] = 0\n",
        "#print(user_similarity)"
      ],
      "execution_count": null,
      "outputs": []
    },
    {
      "cell_type": "code",
      "metadata": {
        "id": "4sfkomUiEVOV"
      },
      "source": [
        "user_similarity.shape"
      ],
      "execution_count": null,
      "outputs": []
    },
    {
      "cell_type": "code",
      "metadata": {
        "id": "Q4B9YQXT1xwI"
      },
      "source": [
        "merged.columns"
      ],
      "execution_count": null,
      "outputs": []
    },
    {
      "cell_type": "code",
      "metadata": {
        "id": "SGEEOlo4Ki0l",
        "scrolled": true
      },
      "source": [
        "merged[['item_id','title', 'score']].head(10)"
      ],
      "execution_count": null,
      "outputs": []
    },
    {
      "cell_type": "code",
      "metadata": {
        "id": "vOwcWB2IKi0l"
      },
      "source": [
        ""
      ],
      "execution_count": null,
      "outputs": []
    },
    {
      "cell_type": "markdown",
      "metadata": {
        "id": "w0UhRAkyzqQ4"
      },
      "source": [
        "## Item-based collaborative filtering\n",
        "\n",
        "#### Find the item-similarity matrix based on a similarity measure.\n",
        "\n",
        "#### Generate the top 10 similar and relevant items based on the similarity scores."
      ]
    },
    {
      "cell_type": "code",
      "metadata": {
        "id": "G6AMkmWvL070"
      },
      "source": [
        "n_users = consumer_rating.consumer_code.unique().shape[0]\n",
        "n_items = consumer_rating.item_code.unique().shape[0]\n",
        "n_items = consumer_rating['item_code'].max()\n",
        "A = np.zeros((n_items, n_users))\n",
        "\n",
        "print(n_items)\n",
        "print(n_users)\n",
        "\n",
        "for line in consumer_rating.itertuples():\n",
        "    A[line[5]-1, line[4]-1] = line[3]\n",
        "\n",
        "print(\"Original rating matrix : \",A)"
      ],
      "execution_count": null,
      "outputs": []
    },
    {
      "cell_type": "code",
      "metadata": {
        "id": "F3SQBb7XztNA"
      },
      "source": [
        "for i in range(len(A)):\n",
        "  for j in range(len(A[0])):\n",
        "    if A[i][j]>=3:\n",
        "      A[i][j]=1\n",
        "    else:\n",
        "      A[i][j]=0"
      ],
      "execution_count": null,
      "outputs": []
    },
    {
      "cell_type": "code",
      "metadata": {
        "id": "P4cMtbM_zypj"
      },
      "source": [
        "from scipy.sparse import csr_matrix\n",
        "csr_sample = csr_matrix(A)\n",
        "print(csr_sample)"
      ],
      "execution_count": null,
      "outputs": []
    },
    {
      "cell_type": "code",
      "metadata": {
        "id": "c9fDDpeLJN74"
      },
      "source": [
        "type(csr_sample)"
      ],
      "execution_count": null,
      "outputs": []
    },
    {
      "cell_type": "code",
      "metadata": {
        "id": "Pf1S17qGFQkL"
      },
      "source": [
        "from sklearn.neighbors import NearestNeighbors\n",
        "import matplotlib.pyplot as plt\n",
        "import seaborn as sns"
      ],
      "execution_count": null,
      "outputs": []
    },
    {
      "cell_type": "code",
      "metadata": {
        "id": "oSrAN1K6FHHe"
      },
      "source": [
        "knn = NearestNeighbors(metric='cosine', algorithm='brute', n_neighbors=3, n_jobs=-1)\n",
        "knn.fit(csr_sample)"
      ],
      "execution_count": null,
      "outputs": []
    },
    {
      "cell_type": "code",
      "metadata": {
        "id": "10XjHq5bFHNM"
      },
      "source": [
        "consum_sort_des = consumer_rating.sort_values(['consumer_code'], ascending=[True])\n",
        "filter1 = consum_sort_des[consum_sort_des['consumer_code'] == 10].item_code\n",
        "filter1 = filter1.tolist()\n",
        "filter1 = filter1[:20]\n",
        "print(\"Items liked by user: \",filter1)"
      ],
      "execution_count": null,
      "outputs": []
    },
    {
      "cell_type": "code",
      "metadata": {
        "id": "_yqWt308Nnpu"
      },
      "source": [
        "csr_sample.shape"
      ],
      "execution_count": null,
      "outputs": []
    },
    {
      "cell_type": "code",
      "metadata": {
        "id": "C0vmwIuXHwX5"
      },
      "source": [
        "distances1=[]\n",
        "indices1=[]\n",
        "for i in filter1:\n",
        "  distances , indices = knn.kneighbors(csr_sample[i],n_neighbors=3)\n",
        "  indices = indices.flatten()\n",
        "  indices= indices[1:]\n",
        "  indices1.extend(indices)\n",
        "print(\"Items to be recommended: \",indices1)"
      ],
      "execution_count": null,
      "outputs": []
    },
    {
      "cell_type": "code",
      "metadata": {
        "id": "z4v-ZIUV8gyC"
      },
      "source": [
        ""
      ],
      "execution_count": null,
      "outputs": []
    },
    {
      "cell_type": "code",
      "metadata": {
        "id": "MPu1_qMs8g_C"
      },
      "source": [
        ""
      ],
      "execution_count": null,
      "outputs": []
    },
    {
      "cell_type": "code",
      "metadata": {
        "id": "0EJV1hxa8hNq"
      },
      "source": [
        ""
      ],
      "execution_count": null,
      "outputs": []
    },
    {
      "cell_type": "markdown",
      "metadata": {
        "id": "yF1XYFzMzzKC"
      },
      "source": [
        "## Content-based filtering\n",
        "\n",
        "#### Use text processing to analyse the ‘text_description’ feature in the data set.\n",
        "\n",
        "#### Recommend similar items based on the TF-IDF scores."
      ]
    },
    {
      "cell_type": "code",
      "metadata": {
        "id": "GDV3-gaYlAoT"
      },
      "source": [
        "plat_cont_en_prsnt.columns"
      ],
      "execution_count": null,
      "outputs": []
    },
    {
      "cell_type": "code",
      "metadata": {
        "id": "R_kdWmnhz5J1"
      },
      "source": [
        "plat_cont_en_prsnt['text_description'].str.len()"
      ],
      "execution_count": null,
      "outputs": []
    },
    {
      "cell_type": "code",
      "metadata": {
        "id": "DV0VaWibz602"
      },
      "source": [
        "np.mean(plat_cont_en_prsnt['text_description'].str.len())"
      ],
      "execution_count": null,
      "outputs": []
    },
    {
      "cell_type": "code",
      "metadata": {
        "id": "-kohdgXbz68e"
      },
      "source": [
        ""
      ],
      "execution_count": null,
      "outputs": []
    },
    {
      "cell_type": "code",
      "metadata": {
        "id": "3fRRR33m3hcx"
      },
      "source": [
        "number_of_text_description = []\n",
        "for text_description in plat_cont_en_prsnt['text_description']:\n",
        "    n_text_description = len(text_description.split(','))\n",
        "    number_of_text_description.append(n_text_description)\n"
      ],
      "execution_count": null,
      "outputs": []
    },
    {
      "cell_type": "code",
      "metadata": {
        "id": "wdoD1oSz3hcy"
      },
      "source": [
        "number_of_text_description"
      ],
      "execution_count": null,
      "outputs": []
    },
    {
      "cell_type": "code",
      "metadata": {
        "id": "Dz5NLh1H3hcy",
        "scrolled": true
      },
      "source": [
        "sum(number_of_text_description)"
      ],
      "execution_count": null,
      "outputs": []
    },
    {
      "cell_type": "code",
      "metadata": {
        "id": "RjhjTsGK3hcz"
      },
      "source": [
        ""
      ],
      "execution_count": null,
      "outputs": []
    },
    {
      "cell_type": "markdown",
      "metadata": {
        "id": "uYVFZa273hcz"
      },
      "source": [
        "## EDA & Plots"
      ]
    },
    {
      "cell_type": "code",
      "metadata": {
        "id": "nMgg9DO93hcz"
      },
      "source": [
        "import matplotlib.pyplot as plt\n",
        "import seaborn as sns\n",
        "sns.set()"
      ],
      "execution_count": null,
      "outputs": []
    },
    {
      "cell_type": "code",
      "metadata": {
        "id": "rVDSMmDi3hc0"
      },
      "source": [
        ""
      ],
      "execution_count": null,
      "outputs": []
    },
    {
      "cell_type": "code",
      "metadata": {
        "id": "csYfSAWa3hc0",
        "scrolled": true
      },
      "source": [
        "\n",
        "plt.hist(number_of_text_description)\n",
        "plt.xlabel('distribution of number of words in plat_cont_en_prsnt text_description column')\n",
        "plt.ylabel('number of plat_cont_en_prsnt')\n",
        "plt.show()"
      ],
      "execution_count": null,
      "outputs": []
    },
    {
      "cell_type": "code",
      "metadata": {
        "id": "OlEAbG8D3hc1"
      },
      "source": [
        ""
      ],
      "execution_count": null,
      "outputs": []
    },
    {
      "cell_type": "markdown",
      "metadata": {
        "id": "SDVB6icm3hc1"
      },
      "source": [
        "Selected DF"
      ]
    },
    {
      "cell_type": "code",
      "metadata": {
        "id": "WRWpec6l3hc2"
      },
      "source": [
        "plat_cont_en_prsnt = plat_cont_en_prsnt[['title', 'text_description']]"
      ],
      "execution_count": null,
      "outputs": []
    },
    {
      "cell_type": "code",
      "metadata": {
        "id": "6EQHya753hc2"
      },
      "source": [
        "plat_cont_en_prsnt.head()"
      ],
      "execution_count": null,
      "outputs": []
    },
    {
      "cell_type": "code",
      "metadata": {
        "id": "BqpTdqfh3hc3"
      },
      "source": [
        ""
      ],
      "execution_count": null,
      "outputs": []
    },
    {
      "cell_type": "markdown",
      "metadata": {
        "id": "-ClurhjZ3hc3"
      },
      "source": [
        "### Create numpy array from text_description column"
      ]
    },
    {
      "cell_type": "code",
      "metadata": {
        "id": "iOzAmeBx3hc3"
      },
      "source": [
        "text_description_array = plat_cont_en_prsnt['text_description'].to_numpy()"
      ],
      "execution_count": null,
      "outputs": []
    },
    {
      "cell_type": "code",
      "metadata": {
        "id": "Tx1uOM663hc4"
      },
      "source": [
        ""
      ],
      "execution_count": null,
      "outputs": []
    },
    {
      "cell_type": "code",
      "metadata": {
        "id": "K9XnAOVi3hc4"
      },
      "source": [
        "text_description_array"
      ],
      "execution_count": null,
      "outputs": []
    },
    {
      "cell_type": "code",
      "metadata": {
        "id": "45pgoUdU3hc4"
      },
      "source": [
        "text_description_array[0]"
      ],
      "execution_count": null,
      "outputs": []
    },
    {
      "cell_type": "code",
      "metadata": {
        "id": "d65KWshH3hc4"
      },
      "source": [
        ""
      ],
      "execution_count": null,
      "outputs": []
    },
    {
      "cell_type": "code",
      "metadata": {
        "id": "g2UAICyI3hc4",
        "scrolled": true
      },
      "source": [
        "type(text_description_array[0])"
      ],
      "execution_count": null,
      "outputs": []
    },
    {
      "cell_type": "code",
      "metadata": {
        "id": "hzrQ9FW23hc5"
      },
      "source": [
        ""
      ],
      "execution_count": null,
      "outputs": []
    },
    {
      "cell_type": "markdown",
      "metadata": {
        "id": "e5pfWckg3hc5"
      },
      "source": [
        "### Generate Words from text_description Array by Splitting"
      ]
    },
    {
      "cell_type": "code",
      "metadata": {
        "id": "RICyDFcE3hc6"
      },
      "source": [
        ""
      ],
      "execution_count": null,
      "outputs": []
    },
    {
      "cell_type": "code",
      "metadata": {
        "id": "egT506Wd3hc6"
      },
      "source": [
        "words_list = []\n",
        "for keyword in text_description_array:\n",
        "    splitted_words = keyword.lower().split(',')\n",
        "    words_list.append(splitted_words)\n",
        "    "
      ],
      "execution_count": null,
      "outputs": []
    },
    {
      "cell_type": "code",
      "metadata": {
        "id": "68iWdCDM3hc6"
      },
      "source": [
        ""
      ],
      "execution_count": null,
      "outputs": []
    },
    {
      "cell_type": "code",
      "metadata": {
        "id": "xDSLhcxc3hc6"
      },
      "source": [
        "words_list"
      ],
      "execution_count": null,
      "outputs": []
    },
    {
      "cell_type": "code",
      "metadata": {
        "id": "sPtDpUFy3hc6"
      },
      "source": [
        "words_list[7]"
      ],
      "execution_count": null,
      "outputs": []
    },
    {
      "cell_type": "code",
      "metadata": {
        "id": "fxX39t8O3hc7"
      },
      "source": [
        "len(words_list), len(words_list[0]), len(words_list[1])"
      ],
      "execution_count": null,
      "outputs": []
    },
    {
      "cell_type": "code",
      "metadata": {
        "id": "C6uFaqc63hc7"
      },
      "source": [
        ""
      ],
      "execution_count": null,
      "outputs": []
    },
    {
      "cell_type": "markdown",
      "metadata": {
        "id": "MEi6tYV63hc7"
      },
      "source": [
        "## Create Dictionary"
      ]
    },
    {
      "cell_type": "markdown",
      "metadata": {
        "id": "bpwMz60N3hc7"
      },
      "source": [
        "Install Gensim"
      ]
    },
    {
      "cell_type": "code",
      "metadata": {
        "id": "2qTie9WQ3hc7",
        "scrolled": true
      },
      "source": [
        "! pip install gensim"
      ],
      "execution_count": null,
      "outputs": []
    },
    {
      "cell_type": "code",
      "metadata": {
        "id": "4aPcFebY3hc8"
      },
      "source": [
        ""
      ],
      "execution_count": null,
      "outputs": []
    },
    {
      "cell_type": "code",
      "metadata": {
        "id": "ArXjmSm43hc8"
      },
      "source": [
        "from gensim.corpora.dictionary import Dictionary"
      ],
      "execution_count": null,
      "outputs": []
    },
    {
      "cell_type": "markdown",
      "metadata": {
        "id": "d0GUfvXh3hc8"
      },
      "source": [
        "create a dictionary of words from words list"
      ]
    },
    {
      "cell_type": "code",
      "metadata": {
        "id": "6QjhC0p43hc8"
      },
      "source": [
        "dictionary = Dictionary(words_list) "
      ],
      "execution_count": null,
      "outputs": []
    },
    {
      "cell_type": "code",
      "metadata": {
        "id": "tEgqxmTh3hc9"
      },
      "source": [
        "dictionary"
      ],
      "execution_count": null,
      "outputs": []
    },
    {
      "cell_type": "code",
      "metadata": {
        "id": "r8DegcHF3hc9"
      },
      "source": [
        ""
      ],
      "execution_count": null,
      "outputs": []
    },
    {
      "cell_type": "code",
      "metadata": {
        "id": "zXTNTGi63hc9"
      },
      "source": [
        "len(dictionary)"
      ],
      "execution_count": null,
      "outputs": []
    },
    {
      "cell_type": "markdown",
      "metadata": {
        "id": "EMW1ktKo3hc9"
      },
      "source": [
        "#### Total number of words in the words_list"
      ]
    },
    {
      "cell_type": "code",
      "metadata": {
        "id": "oiDO_jtH3hc9"
      },
      "source": [
        "number_words = 0\n",
        "for word in words_list:\n",
        "    number_words = number_words + len(word)"
      ],
      "execution_count": null,
      "outputs": []
    },
    {
      "cell_type": "code",
      "metadata": {
        "id": "kAiZXm_T3hc-"
      },
      "source": [
        "number_words"
      ],
      "execution_count": null,
      "outputs": []
    },
    {
      "cell_type": "code",
      "metadata": {
        "id": "Di6zSCVy3hc-"
      },
      "source": [
        ""
      ],
      "execution_count": null,
      "outputs": []
    },
    {
      "cell_type": "code",
      "metadata": {
        "id": "C1nq8R0H3hc-"
      },
      "source": [
        "dictionary.get(0), dictionary.get(1), dictionary.get(100)"
      ],
      "execution_count": null,
      "outputs": []
    },
    {
      "cell_type": "code",
      "metadata": {
        "id": "MMXeRpRC3hc-"
      },
      "source": [
        "dictionary.get(1000)"
      ],
      "execution_count": null,
      "outputs": []
    },
    {
      "cell_type": "code",
      "metadata": {
        "id": "DTQna_9N3hc_"
      },
      "source": [
        ""
      ],
      "execution_count": null,
      "outputs": []
    },
    {
      "cell_type": "code",
      "metadata": {
        "id": "72Hp9bNw3hc_"
      },
      "source": [
        ""
      ],
      "execution_count": null,
      "outputs": []
    },
    {
      "cell_type": "markdown",
      "metadata": {
        "id": "Hh7owYVi3hc_"
      },
      "source": [
        "## Generate Bag of Words"
      ]
    },
    {
      "cell_type": "code",
      "metadata": {
        "id": "orcTCnt93hc_"
      },
      "source": [
        "words_list[0]"
      ],
      "execution_count": null,
      "outputs": []
    },
    {
      "cell_type": "markdown",
      "metadata": {
        "id": "ybhXkaj03hc_"
      },
      "source": [
        "doc2bow = Document to BOW[Bag of word]"
      ]
    },
    {
      "cell_type": "code",
      "metadata": {
        "id": "syuU6XZ33hc_"
      },
      "source": [
        "bow = dictionary.doc2bow(words_list[0])"
      ],
      "execution_count": null,
      "outputs": []
    },
    {
      "cell_type": "code",
      "metadata": {
        "id": "SpAw1iAM3hdA"
      },
      "source": [
        "bow"
      ],
      "execution_count": null,
      "outputs": []
    },
    {
      "cell_type": "code",
      "metadata": {
        "id": "zXJLzmDr3hdA"
      },
      "source": [
        "len(words_list[0]), len(bow)"
      ],
      "execution_count": null,
      "outputs": []
    },
    {
      "cell_type": "code",
      "metadata": {
        "id": "6jvpzyD63hdA"
      },
      "source": [
        ""
      ],
      "execution_count": null,
      "outputs": []
    },
    {
      "cell_type": "markdown",
      "metadata": {
        "id": "87SzAbvj3hdA"
      },
      "source": [
        "### Generate Corpus by creating BOW of each document"
      ]
    },
    {
      "cell_type": "code",
      "metadata": {
        "id": "I0H1GjuC3hdA"
      },
      "source": [
        ""
      ],
      "execution_count": null,
      "outputs": []
    },
    {
      "cell_type": "code",
      "metadata": {
        "id": "P5aK7YGP3hdB"
      },
      "source": [
        "\n",
        "corpus = [dictionary.doc2bow(doc) for doc in words_list] \n"
      ],
      "execution_count": null,
      "outputs": []
    },
    {
      "cell_type": "code",
      "metadata": {
        "id": "U2ScDkcE3hdB"
      },
      "source": [
        "print(corpus)"
      ],
      "execution_count": null,
      "outputs": []
    },
    {
      "cell_type": "code",
      "metadata": {
        "id": "o3mlm9Sf3hdB"
      },
      "source": [
        "len(corpus), len(corpus[0]), len(corpus[1])"
      ],
      "execution_count": null,
      "outputs": []
    },
    {
      "cell_type": "code",
      "metadata": {
        "id": "Q6ROMISh3hdB"
      },
      "source": [
        ""
      ],
      "execution_count": null,
      "outputs": []
    },
    {
      "cell_type": "code",
      "metadata": {
        "id": "aps_lcop3hdB"
      },
      "source": [
        "len(words_list), len(words_list[0])"
      ],
      "execution_count": null,
      "outputs": []
    },
    {
      "cell_type": "code",
      "metadata": {
        "id": "RMt-4Po63hdC"
      },
      "source": [
        ""
      ],
      "execution_count": null,
      "outputs": []
    },
    {
      "cell_type": "code",
      "metadata": {
        "id": "3EQ_kjko3hdC"
      },
      "source": [
        ""
      ],
      "execution_count": null,
      "outputs": []
    },
    {
      "cell_type": "markdown",
      "metadata": {
        "id": "IpCvD-xa3hdC"
      },
      "source": [
        "### TF-IDF Model"
      ]
    },
    {
      "cell_type": "markdown",
      "metadata": {
        "id": "jy-0ZQPL3hdC"
      },
      "source": [
        "TF = Term frequency -> count/no."
      ]
    },
    {
      "cell_type": "markdown",
      "metadata": {
        "id": "oIkuDLLp3hdD"
      },
      "source": [
        "IDF = Inverse doc freq. -> log(N/n)"
      ]
    },
    {
      "cell_type": "code",
      "metadata": {
        "id": "npNBBrzH3hdD"
      },
      "source": [
        "\n",
        "from gensim.models.tfidfmodel import TfidfModel\n"
      ],
      "execution_count": null,
      "outputs": []
    },
    {
      "cell_type": "markdown",
      "metadata": {
        "id": "CtH4oOLR3hdE"
      },
      "source": [
        "create tfidf model of the corpus"
      ]
    },
    {
      "cell_type": "code",
      "metadata": {
        "id": "IuY9tK9k3hdE"
      },
      "source": [
        "\n",
        "tfidf = TfidfModel(corpus)"
      ],
      "execution_count": null,
      "outputs": []
    },
    {
      "cell_type": "code",
      "metadata": {
        "id": "42ajbolq3hdE"
      },
      "source": [
        ""
      ],
      "execution_count": null,
      "outputs": []
    },
    {
      "cell_type": "code",
      "metadata": {
        "id": "azP6n5_33hdE"
      },
      "source": [
        "tfidf"
      ],
      "execution_count": null,
      "outputs": []
    },
    {
      "cell_type": "code",
      "metadata": {
        "id": "V--Ly0cb3hdF"
      },
      "source": [
        "tfidf[corpus[0]]"
      ],
      "execution_count": null,
      "outputs": []
    },
    {
      "cell_type": "code",
      "metadata": {
        "id": "mYzNc5is3hdH"
      },
      "source": [
        ""
      ],
      "execution_count": null,
      "outputs": []
    },
    {
      "cell_type": "code",
      "metadata": {
        "id": "EkBMZW833hdH"
      },
      "source": [
        ""
      ],
      "execution_count": null,
      "outputs": []
    },
    {
      "cell_type": "markdown",
      "metadata": {
        "id": "S9OR4WM83hdH"
      },
      "source": [
        "## Generate Similarity Matrix"
      ]
    },
    {
      "cell_type": "code",
      "metadata": {
        "id": "jKFIeOII3hdI"
      },
      "source": [
        "from gensim.similarities import MatrixSimilarity\n"
      ],
      "execution_count": null,
      "outputs": []
    },
    {
      "cell_type": "code",
      "metadata": {
        "id": "EHpRvJ_k3hdI"
      },
      "source": [
        ""
      ],
      "execution_count": null,
      "outputs": []
    },
    {
      "cell_type": "code",
      "metadata": {
        "id": "An_aibA-3hdI"
      },
      "source": [
        "sims = MatrixSimilarity(tfidf[corpus], num_features=len(dictionary))\n"
      ],
      "execution_count": null,
      "outputs": []
    },
    {
      "cell_type": "code",
      "metadata": {
        "id": "j3wQGAEc3hdJ"
      },
      "source": [
        "print(sims)"
      ],
      "execution_count": null,
      "outputs": []
    },
    {
      "cell_type": "code",
      "metadata": {
        "id": "pxxgxjOi3hdJ"
      },
      "source": [
        "sims[corpus[0]]"
      ],
      "execution_count": null,
      "outputs": []
    },
    {
      "cell_type": "code",
      "metadata": {
        "id": "7Kn5s7XW3hdK"
      },
      "source": [
        "len(sims[corpus[0]])"
      ],
      "execution_count": null,
      "outputs": []
    },
    {
      "cell_type": "markdown",
      "metadata": {
        "id": "_iIQ0JgV3hdK"
      },
      "source": [
        "## Generate Recommendation for a news"
      ]
    },
    {
      "cell_type": "markdown",
      "metadata": {
        "id": "VQp4UtCq65Pd"
      },
      "source": [
        ""
      ]
    },
    {
      "cell_type": "code",
      "metadata": {
        "id": "HwBtsS003hdL"
      },
      "source": [
        "news_title = \"IEEE to Talk Blockchain at Cloud Computing Oxford-Con - CoinDesk\""
      ],
      "execution_count": null,
      "outputs": []
    },
    {
      "cell_type": "markdown",
      "metadata": {
        "id": "wyqcZUr03hdM"
      },
      "source": [
        "#### n = no of recommendations"
      ]
    },
    {
      "cell_type": "code",
      "metadata": {
        "id": "pDsfrp8M3hdM"
      },
      "source": [
        "n = 5"
      ],
      "execution_count": null,
      "outputs": []
    },
    {
      "cell_type": "code",
      "metadata": {
        "id": "_z07ckHD3hdM"
      },
      "source": [
        ""
      ],
      "execution_count": null,
      "outputs": []
    },
    {
      "cell_type": "markdown",
      "metadata": {
        "id": "brK4BBzv3hdN"
      },
      "source": [
        "#### Get the news row"
      ]
    },
    {
      "cell_type": "code",
      "metadata": {
        "id": "sxw2yxE_3hdN"
      },
      "source": [
        "news = plat_cont_en_prsnt.loc[plat_cont_en_prsnt.title==news_title] "
      ],
      "execution_count": null,
      "outputs": []
    },
    {
      "cell_type": "code",
      "metadata": {
        "id": "EpZbr_6T3hdN"
      },
      "source": [
        "news"
      ],
      "execution_count": null,
      "outputs": []
    },
    {
      "cell_type": "markdown",
      "metadata": {
        "id": "SYLE2QrT3hdP"
      },
      "source": [
        "#### Generate words_list by splitting the text_description column"
      ]
    },
    {
      "cell_type": "code",
      "metadata": {
        "id": "Pema2n473hdP"
      },
      "source": [
        "words_list = news['text_description'].iloc[0].split(',')"
      ],
      "execution_count": null,
      "outputs": []
    },
    {
      "cell_type": "code",
      "metadata": {
        "id": "nt6KFG293hdQ"
      },
      "source": [
        "words_list"
      ],
      "execution_count": null,
      "outputs": []
    },
    {
      "cell_type": "markdown",
      "metadata": {
        "id": "gjeo7H3S3hdQ"
      },
      "source": [
        "#### set the query_doc to the words_list"
      ]
    },
    {
      "cell_type": "code",
      "metadata": {
        "id": "qJeyLQ5U3hdR"
      },
      "source": [
        "query_doc = words_list "
      ],
      "execution_count": null,
      "outputs": []
    },
    {
      "cell_type": "code",
      "metadata": {
        "id": "KuaAvd7a3hdR"
      },
      "source": [
        "query_doc"
      ],
      "execution_count": null,
      "outputs": []
    },
    {
      "cell_type": "code",
      "metadata": {
        "id": "RPiiohS33hdS"
      },
      "source": [
        ""
      ],
      "execution_count": null,
      "outputs": []
    },
    {
      "cell_type": "markdown",
      "metadata": {
        "id": "ko2z2VLl3hdS"
      },
      "source": [
        "#### get bag of words from the query_doc"
      ]
    },
    {
      "cell_type": "code",
      "metadata": {
        "id": "hpgMnuNU3hdS"
      },
      "source": [
        "query_doc_bow = dictionary.doc2bow(query_doc) "
      ],
      "execution_count": null,
      "outputs": []
    },
    {
      "cell_type": "code",
      "metadata": {
        "id": "ZJjGXj4B3hdS"
      },
      "source": [
        "query_doc_bow"
      ],
      "execution_count": null,
      "outputs": []
    },
    {
      "cell_type": "code",
      "metadata": {
        "id": "e_rYGrk83hdT"
      },
      "source": [
        "len(query_doc_bow), len(query_doc)"
      ],
      "execution_count": null,
      "outputs": []
    },
    {
      "cell_type": "markdown",
      "metadata": {
        "id": "Bi9ZeuVL3hdb"
      },
      "source": [
        "### Generate TF-IDF values for the query_doc_bow"
      ]
    },
    {
      "cell_type": "code",
      "metadata": {
        "id": "CcFOqJ9j3hdd"
      },
      "source": [
        "query_doc_tfidf = tfidf[query_doc_bow] "
      ],
      "execution_count": null,
      "outputs": []
    },
    {
      "cell_type": "code",
      "metadata": {
        "id": "ss_RwXzR3hde"
      },
      "source": [
        "query_doc_tfidf"
      ],
      "execution_count": null,
      "outputs": []
    },
    {
      "cell_type": "code",
      "metadata": {
        "id": "bvQSYbjo3hde"
      },
      "source": [
        ""
      ],
      "execution_count": null,
      "outputs": []
    },
    {
      "cell_type": "markdown",
      "metadata": {
        "id": "Mxr8v9kQ3hdf"
      },
      "source": [
        "### Get Similarity Score using Similarity Matrix"
      ]
    },
    {
      "cell_type": "code",
      "metadata": {
        "id": "VdOfVR8G3hdf"
      },
      "source": [
        "similarity_array = sims[query_doc_tfidf] "
      ],
      "execution_count": null,
      "outputs": []
    },
    {
      "cell_type": "code",
      "metadata": {
        "id": "2NYQ0uLe3hdf"
      },
      "source": [
        "similarity_array"
      ],
      "execution_count": null,
      "outputs": []
    },
    {
      "cell_type": "code",
      "metadata": {
        "id": "Yp6x6icN3hdg"
      },
      "source": [
        "len(similarity_array)"
      ],
      "execution_count": null,
      "outputs": []
    },
    {
      "cell_type": "code",
      "metadata": {
        "id": "laNMpk-i3hdh"
      },
      "source": [
        ""
      ],
      "execution_count": null,
      "outputs": []
    },
    {
      "cell_type": "markdown",
      "metadata": {
        "id": "lXJrHiOw3hdi"
      },
      "source": [
        "### Create a Series to Visualize Similarity Score along with news Names"
      ]
    },
    {
      "cell_type": "code",
      "metadata": {
        "id": "Seg8bHAq3hdi"
      },
      "source": [
        "similarity_series = pd.Series(similarity_array.tolist(), index=plat_cont_en_prsnt.title.values)"
      ],
      "execution_count": null,
      "outputs": []
    },
    {
      "cell_type": "code",
      "metadata": {
        "id": "0dwXS00c3hdi"
      },
      "source": [
        "similarity_series"
      ],
      "execution_count": null,
      "outputs": []
    },
    {
      "cell_type": "markdown",
      "metadata": {
        "id": "jkIvwoCV3hdj"
      },
      "source": [
        "### Sort the series to get Top Recommended plat_cont_en_prsnt"
      ]
    },
    {
      "cell_type": "code",
      "metadata": {
        "id": "KBoDsqf33hdj"
      },
      "source": [
        "\n",
        "recommended_plat_cont_en_prsnt = similarity_series.sort_values(ascending=False)[1:n+1] \n",
        "\n"
      ],
      "execution_count": null,
      "outputs": []
    },
    {
      "cell_type": "code",
      "metadata": {
        "id": "ql8fAS7D3hdk"
      },
      "source": [
        "recommended_plat_cont_en_prsnt"
      ],
      "execution_count": null,
      "outputs": []
    },
    {
      "cell_type": "markdown",
      "metadata": {
        "id": "yP7X1dnZ3hdl"
      },
      "source": [
        "## Get highest TF-IDF values words for this news which influenced the Recommendations"
      ]
    },
    {
      "cell_type": "code",
      "metadata": {
        "id": "w72wOiLb3hdm"
      },
      "source": [
        "news"
      ],
      "execution_count": null,
      "outputs": []
    },
    {
      "cell_type": "markdown",
      "metadata": {
        "id": "9JhUwgB7m1pu"
      },
      "source": [
        "### Corpus for 16th index"
      ]
    },
    {
      "cell_type": "code",
      "metadata": {
        "id": "Hifl1hpGm1pu"
      },
      "source": [
        "corpus[16]"
      ],
      "execution_count": null,
      "outputs": []
    },
    {
      "cell_type": "code",
      "metadata": {
        "id": "lyv15ogJm1pu"
      },
      "source": [
        "corpus[news.index.values.tolist()[0]]"
      ],
      "execution_count": null,
      "outputs": []
    },
    {
      "cell_type": "markdown",
      "metadata": {
        "id": "xXlv_TGIm1pv"
      },
      "source": [
        "### TF-IDF Values"
      ]
    },
    {
      "cell_type": "code",
      "metadata": {
        "colab": {
          "background_save": true
        },
        "id": "w8_cumoEm1pv"
      },
      "source": [
        "tfidf[corpus[news.index.values.tolist()[0]]]"
      ],
      "execution_count": null,
      "outputs": []
    },
    {
      "cell_type": "markdown",
      "metadata": {
        "id": "Jhb-SlRbm1pv"
      },
      "source": [
        "### Sorted TF-IDF values"
      ]
    },
    {
      "cell_type": "code",
      "metadata": {
        "colab": {
          "background_save": true
        },
        "id": "8CGhopHum1pv"
      },
      "source": [
        "\n",
        "sorted_tfidf_weights = sorted(tfidf[corpus[news.index.values.tolist()[0]]], key=lambda w: w[1], reverse=True)\n"
      ],
      "execution_count": null,
      "outputs": []
    },
    {
      "cell_type": "code",
      "metadata": {
        "colab": {
          "background_save": true
        },
        "id": "gJQe5qLHm1pw"
      },
      "source": [
        "sorted_tfidf_weights"
      ],
      "execution_count": null,
      "outputs": []
    },
    {
      "cell_type": "code",
      "metadata": {
        "colab": {
          "background_save": true
        },
        "id": "Z5YX5PxTm1pw"
      },
      "source": [
        "dictionary.get(3515)"
      ],
      "execution_count": null,
      "outputs": []
    },
    {
      "cell_type": "code",
      "metadata": {
        "colab": {
          "background_save": true
        },
        "id": "ryvf-_eYm1pw"
      },
      "source": [
        "dictionary.get(3534)"
      ],
      "execution_count": null,
      "outputs": []
    },
    {
      "cell_type": "code",
      "metadata": {
        "colab": {
          "background_save": true
        },
        "id": "94yJLYfOm1pw"
      },
      "source": [
        "print('Top words associated with this news by tf-idf are: ')\n",
        "for term_id, weight in sorted_tfidf_weights[:5]:\n",
        "    print(\" '%s' %.5f\" %(dictionary.get(term_id), weight))\n",
        "\n"
      ],
      "execution_count": null,
      "outputs": []
    },
    {
      "cell_type": "markdown",
      "metadata": {
        "id": "PlC5N5Gxm1px"
      },
      "source": [
        "# Creating a Modular code by creating a function for Query news Input"
      ]
    },
    {
      "cell_type": "code",
      "metadata": {
        "colab": {
          "background_save": true
        },
        "id": "KZKN2lJZm1px"
      },
      "source": [
        "def news_recommendation(news_title, number_of_hits=5):\n",
        "    news = plat_cont_en_prsnt.loc[plat_cont_en_prsnt.title==news_title] # get the news row\n",
        "    text_description = news['text_description'].iloc[0].split(',') #get the text_description as a Series (news['text_description']),\n",
        "    # get just the text_description string ([0]), and then convert to a list of text_description (.split(',') )\n",
        "    query_doc = text_description #set the query_doc to the list of text_description\n",
        "    \n",
        "    query_doc_bow = dictionary.doc2bow(query_doc) # get a bag of words from the query_doc\n",
        "    query_doc_tfidf = tfidf[query_doc_bow] #convert the regular bag of words model to a tf-idf model where we have tuples\n",
        "    # of the news ID and it's tf-idf value for the news\n",
        "\n",
        "    similarity_array = sims[query_doc_tfidf] # get the array of similarity values between our news and every other news. \n",
        "    #So the length is the number of plat_cont_en_prsnt we have. To do this, we pass our list of tf-idf tuples to sims.\n",
        "\n",
        "    similarity_series = pd.Series(similarity_array.tolist(), index=plat_cont_en_prsnt.title.values) #Convert to a Series\n",
        "    recommended_plat_cont_en_prsnt = similarity_series.sort_values(ascending=False)[1:number_of_hits+1] \n",
        "    #get the top matching results, i.e. most similar plat_cont_en_prsnt; start from index 1 because every news is most similar to itself\n",
        "    print(\"Top Recommended plat_cont_en_prsnt along with Similarity Score: \")\n",
        "    print(recommended_plat_cont_en_prsnt)"
      ],
      "execution_count": null,
      "outputs": []
    },
    {
      "cell_type": "code",
      "metadata": {
        "colab": {
          "background_save": true
        },
        "id": "Q-X3F1hgm1px"
      },
      "source": [
        "news_recommendation('Google Data Center 360° Tour', 5)"
      ],
      "execution_count": null,
      "outputs": []
    },
    {
      "cell_type": "code",
      "metadata": {
        "colab": {
          "background_save": true
        },
        "id": "3n7_k-THm1px"
      },
      "source": [
        ""
      ],
      "execution_count": null,
      "outputs": []
    },
    {
      "cell_type": "code",
      "metadata": {
        "colab": {
          "background_save": true
        },
        "id": "05kJWXTMm1px"
      },
      "source": [
        "news_recommendation('Google Data Center 360° Tour', 5)"
      ],
      "execution_count": null,
      "outputs": []
    },
    {
      "cell_type": "code",
      "metadata": {
        "colab": {
          "background_save": true
        },
        "id": "v82vS_o-m1py"
      },
      "source": [
        ""
      ],
      "execution_count": null,
      "outputs": []
    },
    {
      "cell_type": "code",
      "metadata": {
        "colab": {
          "background_save": true
        },
        "id": "f3wjs12ym1py"
      },
      "source": [
        "news_recommendation('Google Data Center 360° Tour', 5)"
      ],
      "execution_count": null,
      "outputs": []
    },
    {
      "cell_type": "code",
      "metadata": {
        "colab": {
          "background_save": true
        },
        "id": "x1qLAOrOm1py"
      },
      "source": [
        ""
      ],
      "execution_count": null,
      "outputs": []
    },
    {
      "cell_type": "code",
      "metadata": {
        "colab": {
          "background_save": true
        },
        "id": "odz_HyHQm1py"
      },
      "source": [
        ""
      ],
      "execution_count": null,
      "outputs": []
    },
    {
      "cell_type": "markdown",
      "metadata": {
        "id": "zfFBtRKwrKrk"
      },
      "source": [
        "## ALS "
      ]
    },
    {
      "cell_type": "markdown",
      "metadata": {
        "id": "_-iviyYiszP-"
      },
      "source": [
        "### Create Sparse User-Item Matrix"
      ]
    },
    {
      "cell_type": "code",
      "metadata": {
        "colab": {
          "background_save": true
        },
        "id": "ucLIZQgTmBN5"
      },
      "source": [
        "consumer_rating_cpy = consumer_rating.copy()"
      ],
      "execution_count": null,
      "outputs": []
    },
    {
      "cell_type": "code",
      "metadata": {
        "colab": {
          "background_save": true
        },
        "id": "rkJZuk7jDOby"
      },
      "source": [
        "consumer_rating_cpy.shape"
      ],
      "execution_count": null,
      "outputs": []
    },
    {
      "cell_type": "code",
      "metadata": {
        "colab": {
          "background_save": true
        },
        "id": "_o0BkDm3DSMU"
      },
      "source": [
        "consumer_rating_cpy.head()\n",
        "print(consumer_rating_cpy)"
      ],
      "execution_count": null,
      "outputs": []
    },
    {
      "cell_type": "code",
      "metadata": {
        "colab": {
          "background_save": true
        },
        "id": "3dIRB6u5DWu6"
      },
      "source": [
        "consumer_rating_cpy.drop([\"consumer_id\", \"item_id\"], axis =1)"
      ],
      "execution_count": null,
      "outputs": []
    },
    {
      "cell_type": "code",
      "metadata": {
        "colab": {
          "background_save": true
        },
        "id": "cxK-0IahO0jV"
      },
      "source": [
        "consumer_rating_cpy.describe()"
      ],
      "execution_count": null,
      "outputs": []
    },
    {
      "cell_type": "code",
      "metadata": {
        "colab": {
          "background_save": true
        },
        "id": "78M8MUaJr4nA"
      },
      "source": [
        "from scipy.sparse import csr_matrix"
      ],
      "execution_count": null,
      "outputs": []
    },
    {
      "cell_type": "code",
      "metadata": {
        "colab": {
          "background_save": true
        },
        "id": "--5tuzLBr4nA"
      },
      "source": [
        ""
      ],
      "execution_count": null,
      "outputs": []
    },
    {
      "cell_type": "code",
      "metadata": {
        "colab": {
          "background_save": true
        },
        "id": "rIo7-1Lb6Mb-"
      },
      "source": [
        "alpha = 40"
      ],
      "execution_count": null,
      "outputs": []
    },
    {
      "cell_type": "code",
      "metadata": {
        "colab": {
          "background_save": true
        },
        "id": "VQ9qGEIIr4nB"
      },
      "source": [
        "consumer_rating_cpy.shape[0]"
      ],
      "execution_count": null,
      "outputs": []
    },
    {
      "cell_type": "code",
      "metadata": {
        "colab": {
          "background_save": true
        },
        "id": "E5Gm9FE5r4nB"
      },
      "source": [
        ""
      ],
      "execution_count": null,
      "outputs": []
    },
    {
      "cell_type": "code",
      "metadata": {
        "colab": {
          "background_save": true
        },
        "id": "CLoEkPx9r4nC"
      },
      "source": [
        "#sparse_user_item = csr_matrix( ([alpha]*consumer_rating_cpy.shape[0], (consumer_rating_cpy['consumer_code'], consumer_rating_cpy['item_code']) ))\n",
        "sparse_user_item = csr_matrix( (consumer_rating_cpy['interaction_type'].astype(float), (consumer_rating_cpy['consumer_code'], consumer_rating_cpy['item_code']) ))"
      ],
      "execution_count": null,
      "outputs": []
    },
    {
      "cell_type": "code",
      "metadata": {
        "colab": {
          "background_save": true
        },
        "id": "nN7BxCmdr4nC"
      },
      "source": [
        ""
      ],
      "execution_count": null,
      "outputs": []
    },
    {
      "cell_type": "code",
      "metadata": {
        "colab": {
          "background_save": true
        },
        "id": "QdoGFFtpr4nC"
      },
      "source": [
        "print(sparse_user_item)"
      ],
      "execution_count": null,
      "outputs": []
    },
    {
      "cell_type": "code",
      "metadata": {
        "colab": {
          "background_save": true
        },
        "id": "qEszNjAYr4nC"
      },
      "source": [
        ""
      ],
      "execution_count": null,
      "outputs": []
    },
    {
      "cell_type": "markdown",
      "metadata": {
        "id": "NNU5oIW8r4nD"
      },
      "source": [
        "### shape : 1895x2987.  since Total No of consumers  = 1895, No of News = 2987"
      ]
    },
    {
      "cell_type": "markdown",
      "metadata": {
        "id": "UXOX8RBrr4nD"
      },
      "source": [
        "### Convert to Array"
      ]
    },
    {
      "cell_type": "code",
      "metadata": {
        "colab": {
          "background_save": true
        },
        "id": "TQda6Aqfr4nD"
      },
      "source": [
        "csr_user_array = sparse_user_item.toarray()"
      ],
      "execution_count": null,
      "outputs": []
    },
    {
      "cell_type": "code",
      "metadata": {
        "colab": {
          "background_save": true
        },
        "id": "BVvLDwMDr4nD"
      },
      "source": [
        ""
      ],
      "execution_count": null,
      "outputs": []
    },
    {
      "cell_type": "code",
      "metadata": {
        "colab": {
          "background_save": true
        },
        "id": "nlXdEYEer4nD"
      },
      "source": [
        "csr_user_array"
      ],
      "execution_count": null,
      "outputs": []
    },
    {
      "cell_type": "code",
      "metadata": {
        "colab": {
          "background_save": true
        },
        "id": "PMsy0ftsr4nE"
      },
      "source": [
        ""
      ],
      "execution_count": null,
      "outputs": []
    },
    {
      "cell_type": "code",
      "metadata": {
        "colab": {
          "background_save": true
        },
        "id": "WEDOVf-xr4nE"
      },
      "source": [
        "len(csr_user_array), len(csr_user_array[0]), csr_user_array[1][1]"
      ],
      "execution_count": null,
      "outputs": []
    },
    {
      "cell_type": "code",
      "metadata": {
        "colab": {
          "background_save": true
        },
        "id": "FNXEyhCxr4nF"
      },
      "source": [
        ""
      ],
      "execution_count": null,
      "outputs": []
    },
    {
      "cell_type": "code",
      "metadata": {
        "colab": {
          "background_save": true
        },
        "id": "HnHNBY4ur4nF"
      },
      "source": [
        "max(csr_user_array[1])"
      ],
      "execution_count": null,
      "outputs": []
    },
    {
      "cell_type": "markdown",
      "metadata": {
        "id": "1KgOmCypr4nF"
      },
      "source": [
        "### csr matrix only stores where value is 40 [non-zero]. (Compressed Sparse Row)"
      ]
    },
    {
      "cell_type": "code",
      "metadata": {
        "colab": {
          "background_save": true
        },
        "id": "LJiyWcxl6gNz"
      },
      "source": [
        "print(sparse_user_item)"
      ],
      "execution_count": null,
      "outputs": []
    },
    {
      "cell_type": "markdown",
      "metadata": {
        "id": "AWIt6fdsr4nG"
      },
      "source": [
        "### Create item-user sparse matrix"
      ]
    },
    {
      "cell_type": "code",
      "metadata": {
        "colab": {
          "background_save": true
        },
        "id": "ujvHzBa96cF7"
      },
      "source": [
        "sparse_item_user = sparse_user_item.T.tocsr()"
      ],
      "execution_count": null,
      "outputs": []
    },
    {
      "cell_type": "code",
      "metadata": {
        "colab": {
          "background_save": true
        },
        "id": "n5nLEsLKr4nH"
      },
      "source": [
        "print(sparse_item_user)"
      ],
      "execution_count": null,
      "outputs": []
    },
    {
      "cell_type": "markdown",
      "metadata": {
        "id": "kufiS_yqr4nH"
      },
      "source": [
        "\n",
        "\n",
        "```\n",
        "# This is formatted as code\n",
        "```\n",
        "\n",
        "### shape : 2987x1895.  since Total No of News  = 2987 & No of users = 1895"
      ]
    },
    {
      "cell_type": "code",
      "metadata": {
        "colab": {
          "background_save": true
        },
        "id": "X13f7Wp-r4nH"
      },
      "source": [
        "csr_item_array = sparse_item_user.toarray()"
      ],
      "execution_count": null,
      "outputs": []
    },
    {
      "cell_type": "code",
      "metadata": {
        "colab": {
          "background_save": true
        },
        "id": "sHuc0ZBBr4nH"
      },
      "source": [
        ""
      ],
      "execution_count": null,
      "outputs": []
    },
    {
      "cell_type": "code",
      "metadata": {
        "colab": {
          "background_save": true
        },
        "id": "Z3ObIX7Sr4nH"
      },
      "source": [
        "csr_item_array"
      ],
      "execution_count": null,
      "outputs": []
    },
    {
      "cell_type": "code",
      "metadata": {
        "colab": {
          "background_save": true
        },
        "id": "IjBFbcgpr4nI"
      },
      "source": [
        ""
      ],
      "execution_count": null,
      "outputs": []
    },
    {
      "cell_type": "code",
      "metadata": {
        "colab": {
          "background_save": true
        },
        "id": "JJck0OWwr4nI"
      },
      "source": [
        "len(csr_item_array), len(csr_item_array[0]), csr_item_array[1][2]"
      ],
      "execution_count": null,
      "outputs": []
    },
    {
      "cell_type": "code",
      "metadata": {
        "colab": {
          "background_save": true
        },
        "id": "PTobngNs6u2T"
      },
      "source": [
        "print(sparse_item_user)"
      ],
      "execution_count": null,
      "outputs": []
    },
    {
      "cell_type": "markdown",
      "metadata": {
        "id": "FK1K7zJhr4nJ"
      },
      "source": [
        "## Create train, test data"
      ]
    },
    {
      "cell_type": "code",
      "metadata": {
        "colab": {
          "background_save": true
        },
        "id": "-82KcUgatjVB"
      },
      "source": [
        "\n",
        "!pip install implicit"
      ],
      "execution_count": null,
      "outputs": []
    },
    {
      "cell_type": "code",
      "metadata": {
        "colab": {
          "background_save": true
        },
        "id": "H94X0Javr4nJ"
      },
      "source": [
        "from implicit.evaluation import train_test_split"
      ],
      "execution_count": null,
      "outputs": []
    },
    {
      "cell_type": "code",
      "metadata": {
        "colab": {
          "background_save": true
        },
        "id": "TZX0r65er4nJ"
      },
      "source": [
        ""
      ],
      "execution_count": null,
      "outputs": []
    },
    {
      "cell_type": "code",
      "metadata": {
        "colab": {
          "background_save": true
        },
        "id": "b2mBHqgA6xTA"
      },
      "source": [
        "train, test = train_test_split(sparse_item_user, train_percentage=0.8)"
      ],
      "execution_count": null,
      "outputs": []
    },
    {
      "cell_type": "code",
      "metadata": {
        "colab": {
          "background_save": true
        },
        "id": "fq97Te7-r4nK"
      },
      "source": [
        "print(train)"
      ],
      "execution_count": null,
      "outputs": []
    },
    {
      "cell_type": "code",
      "metadata": {
        "colab": {
          "background_save": true
        },
        "id": "yXYtoI8Wr4nK"
      },
      "source": [
        "print(test)"
      ],
      "execution_count": null,
      "outputs": []
    },
    {
      "cell_type": "markdown",
      "metadata": {
        "id": "D7lfXdcQr4nK"
      },
      "source": [
        "## Building ALS Model"
      ]
    },
    {
      "cell_type": "code",
      "metadata": {
        "colab": {
          "background_save": true
        },
        "id": "1lRYRfxnr4nK"
      },
      "source": [
        "import implicit"
      ],
      "execution_count": null,
      "outputs": []
    },
    {
      "cell_type": "code",
      "metadata": {
        "colab": {
          "background_save": true
        },
        "id": "w6LkBDJ_r4nK"
      },
      "source": [
        "##! pip install implicit"
      ],
      "execution_count": null,
      "outputs": []
    },
    {
      "cell_type": "code",
      "metadata": {
        "colab": {
          "background_save": true
        },
        "id": "GfPiSQVDr4nL"
      },
      "source": [
        ""
      ],
      "execution_count": null,
      "outputs": []
    },
    {
      "cell_type": "code",
      "metadata": {
        "colab": {
          "background_save": true
        },
        "id": "2o6d_n7P-NBZ"
      },
      "source": [
        "#model = implicit.als.AlternatingLeastSquares(factors=100, regularization=0.1, iterations=20, calculate_training_loss=False)\n",
        "model = implicit.als.AlternatingLeastSquares(factors=50)"
      ],
      "execution_count": null,
      "outputs": []
    },
    {
      "cell_type": "code",
      "metadata": {
        "colab": {
          "background_save": true
        },
        "id": "SRPMTq9dr4nL"
      },
      "source": [
        "print(model)"
      ],
      "execution_count": null,
      "outputs": []
    },
    {
      "cell_type": "markdown",
      "metadata": {
        "id": "kJ76ULJFr4nL"
      },
      "source": [
        "### Train the Model"
      ]
    },
    {
      "cell_type": "code",
      "metadata": {
        "colab": {
          "background_save": true
        },
        "id": "J0SQSxkbr4nL"
      },
      "source": [
        "data_conf = (sparse_item_user * alpha).astype('double')"
      ],
      "execution_count": null,
      "outputs": []
    },
    {
      "cell_type": "code",
      "metadata": {
        "colab": {
          "background_save": true
        },
        "id": "64TREjEKeMrR"
      },
      "source": [
        "print(data_conf)"
      ],
      "execution_count": null,
      "outputs": []
    },
    {
      "cell_type": "code",
      "metadata": {
        "colab": {
          "background_save": true
        },
        "id": "hddYALBxr4nM",
        "scrolled": true
      },
      "source": [
        "#model.fit(train)\n",
        "model.fit(data_conf)"
      ],
      "execution_count": null,
      "outputs": []
    },
    {
      "cell_type": "code",
      "metadata": {
        "colab": {
          "background_save": true
        },
        "id": "oscClPs2Vu2n"
      },
      "source": [
        "item_factors, user_factors = model.item_factors, model.user_factors"
      ],
      "execution_count": null,
      "outputs": []
    },
    {
      "cell_type": "code",
      "metadata": {
        "colab": {
          "background_save": true
        },
        "id": "uuX1Tr2yVymE"
      },
      "source": [
        "item_factors.shape"
      ],
      "execution_count": null,
      "outputs": []
    },
    {
      "cell_type": "code",
      "metadata": {
        "colab": {
          "background_save": true
        },
        "id": "sUgKiaqUV20Q"
      },
      "source": [
        "item_factors[0]"
      ],
      "execution_count": null,
      "outputs": []
    },
    {
      "cell_type": "code",
      "metadata": {
        "colab": {
          "background_save": true
        },
        "id": "04kl0w4TV9j7"
      },
      "source": [
        "user_factors.shape"
      ],
      "execution_count": null,
      "outputs": []
    },
    {
      "cell_type": "code",
      "metadata": {
        "colab": {
          "background_save": true
        },
        "id": "8K4oX-DlWB6E"
      },
      "source": [
        "user_factors[0]"
      ],
      "execution_count": null,
      "outputs": []
    },
    {
      "cell_type": "markdown",
      "metadata": {
        "id": "R0CAnJB_r4nM"
      },
      "source": [
        "## Generating recommendations for a user_id"
      ]
    },
    {
      "cell_type": "code",
      "metadata": {
        "colab": {
          "background_save": true
        },
        "id": "M03tZsIwr4nM"
      },
      "source": [
        "consumer_code = 1\n",
        "print(sparse_user_item)"
      ],
      "execution_count": null,
      "outputs": []
    },
    {
      "cell_type": "code",
      "metadata": {
        "colab": {
          "background_save": true
        },
        "id": "LL2WP-UGr4nM"
      },
      "source": [
        "model.recommend(consumer_code, sparse_user_item)"
      ],
      "execution_count": null,
      "outputs": []
    },
    {
      "cell_type": "code",
      "metadata": {
        "colab": {
          "background_save": true
        },
        "id": "BUM6rPH6r4nM"
      },
      "source": [
        ""
      ],
      "execution_count": null,
      "outputs": []
    },
    {
      "cell_type": "code",
      "metadata": {
        "colab": {
          "background_save": true
        },
        "id": "3NMgCgU6r4nN"
      },
      "source": [
        "model.recommend(consumer_code, sparse_user_item, N=20)"
      ],
      "execution_count": null,
      "outputs": []
    },
    {
      "cell_type": "code",
      "metadata": {
        "colab": {
          "background_save": true
        },
        "id": "IGgZY7N1r4nN"
      },
      "source": [
        ""
      ],
      "execution_count": null,
      "outputs": []
    },
    {
      "cell_type": "code",
      "metadata": {
        "colab": {
          "background_save": true
        },
        "id": "4VwAUZBtr4nN"
      },
      "source": [
        "output = model.recommend(consumer_code, sparse_user_item)"
      ],
      "execution_count": null,
      "outputs": []
    },
    {
      "cell_type": "code",
      "metadata": {
        "colab": {
          "background_save": true
        },
        "id": "5MIORF0kr4nN"
      },
      "source": [
        "output"
      ],
      "execution_count": null,
      "outputs": []
    },
    {
      "cell_type": "code",
      "metadata": {
        "colab": {
          "background_save": true
        },
        "id": "Hfo4FD3Qr4nN"
      },
      "source": [
        ""
      ],
      "execution_count": null,
      "outputs": []
    },
    {
      "cell_type": "code",
      "metadata": {
        "colab": {
          "background_save": true
        },
        "id": "jr1In8LGr4nO"
      },
      "source": [
        "output_df = pd.DataFrame(output, columns=['item_code', 'als_score'])"
      ],
      "execution_count": null,
      "outputs": []
    },
    {
      "cell_type": "code",
      "metadata": {
        "colab": {
          "background_save": true
        },
        "id": "CD2KWRTrr4nO"
      },
      "source": [
        "output_df"
      ],
      "execution_count": null,
      "outputs": []
    },
    {
      "cell_type": "markdown",
      "metadata": {
        "id": "J43Xyv-wr4nO"
      },
      "source": [
        "# Load News Data"
      ]
    },
    {
      "cell_type": "code",
      "metadata": {
        "colab": {
          "background_save": true
        },
        "id": "oSCcSmjwr4nP"
      },
      "source": [
        ""
      ],
      "execution_count": null,
      "outputs": []
    },
    {
      "cell_type": "code",
      "metadata": {
        "colab": {
          "background_save": true
        },
        "id": "iMTzc7scr4nP"
      },
      "source": [
        "news = platform_content[['item_id', 'title']]"
      ],
      "execution_count": null,
      "outputs": []
    },
    {
      "cell_type": "code",
      "metadata": {
        "colab": {
          "background_save": true
        },
        "id": "ecEI_gXur4nP"
      },
      "source": [
        "news.head()"
      ],
      "execution_count": null,
      "outputs": []
    },
    {
      "cell_type": "markdown",
      "metadata": {
        "id": "94uY9PQ8r4nP"
      },
      "source": [
        "# Merge recommendation output with news Data"
      ]
    },
    {
      "cell_type": "code",
      "metadata": {
        "colab": {
          "background_save": true
        },
        "id": "a5lrr1gTr4nP"
      },
      "source": [
        "merged = pd.merge(output_df, consum_item_cd_id, how='left', on='item_code')"
      ],
      "execution_count": null,
      "outputs": []
    },
    {
      "cell_type": "code",
      "metadata": {
        "colab": {
          "background_save": true
        },
        "id": "5hfRIx0Dr4nQ"
      },
      "source": [
        "merged"
      ],
      "execution_count": null,
      "outputs": []
    },
    {
      "cell_type": "code",
      "metadata": {
        "colab": {
          "background_save": true
        },
        "id": "EbZurez7r4nQ"
      },
      "source": [
        "consum_item_cd_id"
      ],
      "execution_count": null,
      "outputs": []
    },
    {
      "cell_type": "code",
      "metadata": {
        "colab": {
          "background_save": true
        },
        "id": "RrCazqS0r4nQ"
      },
      "source": [
        ""
      ],
      "execution_count": null,
      "outputs": []
    },
    {
      "cell_type": "markdown",
      "metadata": {
        "id": "jmP9hrpXr4nQ"
      },
      "source": [
        "## Generating recommendations for news\n"
      ]
    },
    {
      "cell_type": "code",
      "metadata": {
        "colab": {
          "background_save": true
        },
        "id": "d95yeHNYr4nQ"
      },
      "source": [
        "\n",
        "item_Code = 11\n",
        "n_similar = 10"
      ],
      "execution_count": null,
      "outputs": []
    },
    {
      "cell_type": "code",
      "metadata": {
        "colab": {
          "background_save": true
        },
        "id": "hYueou_Jr4nQ"
      },
      "source": [
        ""
      ],
      "execution_count": null,
      "outputs": []
    },
    {
      "cell_type": "code",
      "metadata": {
        "colab": {
          "background_save": true
        },
        "id": "QUgF3ramr4nQ"
      },
      "source": [
        "\n",
        "similar = model.similar_items(item_Code, n_similar)\n"
      ],
      "execution_count": null,
      "outputs": []
    },
    {
      "cell_type": "code",
      "metadata": {
        "colab": {
          "background_save": true
        },
        "id": "WfuLAMecr4nR"
      },
      "source": [
        "similar"
      ],
      "execution_count": null,
      "outputs": []
    },
    {
      "cell_type": "code",
      "metadata": {
        "colab": {
          "background_save": true
        },
        "id": "1X5AgLwHr4nR"
      },
      "source": [
        "type(similar)"
      ],
      "execution_count": null,
      "outputs": []
    },
    {
      "cell_type": "code",
      "metadata": {
        "colab": {
          "background_save": true
        },
        "id": "HhuAFizir4nR"
      },
      "source": [
        "similar[0]"
      ],
      "execution_count": null,
      "outputs": []
    },
    {
      "cell_type": "code",
      "metadata": {
        "colab": {
          "background_save": true
        },
        "id": "Wj4ih-rer4nR"
      },
      "source": [
        ""
      ],
      "execution_count": null,
      "outputs": []
    },
    {
      "cell_type": "code",
      "metadata": {
        "colab": {
          "background_save": true
        },
        "id": "H9ViQ_3Mr4nS"
      },
      "source": [
        "similar_df = pd.DataFrame(similar, columns=['item_code', 'score'])"
      ],
      "execution_count": null,
      "outputs": []
    },
    {
      "cell_type": "code",
      "metadata": {
        "colab": {
          "background_save": true
        },
        "id": "l0WDGo-Wr4nS"
      },
      "source": [
        "similar_df"
      ],
      "execution_count": null,
      "outputs": []
    },
    {
      "cell_type": "code",
      "metadata": {
        "colab": {
          "background_save": true
        },
        "id": "A1haKDTYraDH"
      },
      "source": [
        "news"
      ],
      "execution_count": null,
      "outputs": []
    },
    {
      "cell_type": "markdown",
      "metadata": {
        "id": "Z0OkPNydr4nS"
      },
      "source": [
        "# Merge recommendation output with news Data"
      ]
    },
    {
      "cell_type": "code",
      "metadata": {
        "colab": {
          "background_save": true
        },
        "id": "aZX13MQYr4nS"
      },
      "source": [
        "merged_similar = pd.merge(similar_df, consum_item_cd_id, how='left', on='item_code')"
      ],
      "execution_count": null,
      "outputs": []
    },
    {
      "cell_type": "code",
      "metadata": {
        "colab": {
          "background_save": true
        },
        "id": "DeSh_hsor4nS"
      },
      "source": [
        "merged_similar"
      ],
      "execution_count": null,
      "outputs": []
    },
    {
      "cell_type": "code",
      "metadata": {
        "colab": {
          "background_save": true
        },
        "id": "AghSVlDVr4nS"
      },
      "source": [
        "merged_similar = pd.merge(merged_similar, news, how='left', on='item_id')"
      ],
      "execution_count": null,
      "outputs": []
    },
    {
      "cell_type": "code",
      "metadata": {
        "colab": {
          "background_save": true
        },
        "id": "L83o4Xn8r4nT"
      },
      "source": [
        "#plat_cont_en_prsnt"
      ],
      "execution_count": null,
      "outputs": []
    },
    {
      "cell_type": "code",
      "metadata": {
        "colab": {
          "background_save": true
        },
        "id": "t9zH9DSZr4nT"
      },
      "source": [
        ""
      ],
      "execution_count": null,
      "outputs": []
    },
    {
      "cell_type": "code",
      "metadata": {
        "colab": {
          "background_save": true
        },
        "id": "q_HXCSTy0Jsy"
      },
      "source": [
        ""
      ],
      "execution_count": null,
      "outputs": []
    },
    {
      "cell_type": "code",
      "metadata": {
        "colab": {
          "background_save": true
        },
        "id": "W3aPpLLX0Jyu"
      },
      "source": [
        ""
      ],
      "execution_count": null,
      "outputs": []
    },
    {
      "cell_type": "markdown",
      "metadata": {
        "id": "SutAF93Z0KBY"
      },
      "source": [
        "## Hybrid recommendation system\n",
        "\n",
        "#### Normalise the scores for content and collaborative filtering and combine them with an appropriate weightage to build a hybrid model.\n",
        "\n",
        "#### Try out hybrids of different types of models that can help recommend items similar to a particular item. \n",
        "\n",
        "#### For example, Content+Item-based collaborative model, ALS+Item-based collaborative model, ALS+Content-based model, etc."
      ]
    },
    {
      "cell_type": "markdown",
      "metadata": {
        "id": "twh5unKUgRYU"
      },
      "source": [
        "### Hybrid Recommendation System: Combine Collaborative & Content based"
      ]
    },
    {
      "cell_type": "code",
      "metadata": {
        "colab": {
          "background_save": true
        },
        "id": "s0uIdOeH0TsQ"
      },
      "source": [
        "data_matrix = consumer_rating.pivot(\n",
        "    index='consumer_code',\n",
        "    columns='item_code',\n",
        "    values='interaction_type'\n",
        ").fillna(0)"
      ],
      "execution_count": null,
      "outputs": []
    },
    {
      "cell_type": "code",
      "metadata": {
        "colab": {
          "background_save": true
        },
        "id": "zu6QU4lY0VDA"
      },
      "source": [
        "data_matrix.head()"
      ],
      "execution_count": null,
      "outputs": []
    },
    {
      "cell_type": "code",
      "metadata": {
        "colab": {
          "background_save": true
        },
        "id": "QEATuUp30VLf"
      },
      "source": [
        "data_matrix.shape"
      ],
      "execution_count": null,
      "outputs": []
    },
    {
      "cell_type": "code",
      "metadata": {
        "colab": {
          "background_save": true
        },
        "id": "GZYL7neRiFBZ"
      },
      "source": [
        ""
      ],
      "execution_count": null,
      "outputs": []
    },
    {
      "cell_type": "markdown",
      "metadata": {
        "id": "CPblS2VKh5XY"
      },
      "source": [
        "# Pairwise Distance"
      ]
    },
    {
      "cell_type": "markdown",
      "metadata": {
        "id": "wvso-SuDh5XZ"
      },
      "source": [
        "## news pairwise similarity distance"
      ]
    },
    {
      "cell_type": "code",
      "metadata": {
        "colab": {
          "background_save": true
        },
        "id": "7Oz2Xyosh5XZ",
        "scrolled": true
      },
      "source": [
        "data_matrix.T"
      ],
      "execution_count": null,
      "outputs": []
    },
    {
      "cell_type": "code",
      "metadata": {
        "colab": {
          "background_save": true
        },
        "id": "7MiiF7M6iFTH"
      },
      "source": [
        "data_matrix.T.shape"
      ],
      "execution_count": null,
      "outputs": []
    },
    {
      "cell_type": "code",
      "metadata": {
        "colab": {
          "background_save": true
        },
        "id": "gA6NOI4xiFfw"
      },
      "source": [
        "from sklearn.metrics.pairwise import pairwise_distances "
      ],
      "execution_count": null,
      "outputs": []
    },
    {
      "cell_type": "code",
      "metadata": {
        "colab": {
          "background_save": true
        },
        "id": "OSrcNMaEh5Xa"
      },
      "source": [
        "\n",
        "item_similarity = 1- pairwise_distances(data_matrix.T, metric='cosine')\n"
      ],
      "execution_count": null,
      "outputs": []
    },
    {
      "cell_type": "code",
      "metadata": {
        "colab": {
          "background_save": true
        },
        "id": "PQY__BRHh5Xa"
      },
      "source": [
        "item_similarity"
      ],
      "execution_count": null,
      "outputs": []
    },
    {
      "cell_type": "code",
      "metadata": {
        "colab": {
          "background_save": true
        },
        "id": "1BCJ9vDkh5Xb"
      },
      "source": [
        "item_similarity.shape"
      ],
      "execution_count": null,
      "outputs": []
    },
    {
      "cell_type": "code",
      "metadata": {
        "colab": {
          "background_save": true
        },
        "id": "qT14-OE5iF5z"
      },
      "source": [
        ""
      ],
      "execution_count": null,
      "outputs": []
    },
    {
      "cell_type": "markdown",
      "metadata": {
        "id": "-OFgXLvPh5Xb"
      },
      "source": [
        "## Get similar recommended news for a item_id"
      ]
    },
    {
      "cell_type": "code",
      "metadata": {
        "colab": {
          "background_save": true
        },
        "id": "5YuKh8r_h5Xb"
      },
      "source": [
        "news_index = 5"
      ],
      "execution_count": null,
      "outputs": []
    },
    {
      "cell_type": "code",
      "metadata": {
        "colab": {
          "background_save": true
        },
        "id": "LSaolFtRh5Xb"
      },
      "source": [
        ""
      ],
      "execution_count": null,
      "outputs": []
    },
    {
      "cell_type": "code",
      "metadata": {
        "colab": {
          "background_save": true
        },
        "id": "DTTH2nVBh5Xc"
      },
      "source": [
        "news_prediction = pd.DataFrame(item_similarity)"
      ],
      "execution_count": null,
      "outputs": []
    },
    {
      "cell_type": "code",
      "metadata": {
        "colab": {
          "background_save": true
        },
        "id": "dGcJTQ0Dh5Xc"
      },
      "source": [
        "news_prediction.head()"
      ],
      "execution_count": null,
      "outputs": []
    },
    {
      "cell_type": "code",
      "metadata": {
        "colab": {
          "background_save": true
        },
        "id": "nM7vvGSOh5Xd"
      },
      "source": [
        "news_prediction.shape"
      ],
      "execution_count": null,
      "outputs": []
    },
    {
      "cell_type": "code",
      "metadata": {
        "colab": {
          "background_save": true
        },
        "id": "Uh62e9OQh5Xd"
      },
      "source": [
        "news_prediction.iloc[news_index]"
      ],
      "execution_count": null,
      "outputs": []
    },
    {
      "cell_type": "code",
      "metadata": {
        "colab": {
          "background_save": true
        },
        "id": "6jUfmHCHh5Xe"
      },
      "source": [
        ""
      ],
      "execution_count": null,
      "outputs": []
    },
    {
      "cell_type": "code",
      "metadata": {
        "colab": {
          "background_save": true
        },
        "id": "MfRinjHdh5Xe"
      },
      "source": [
        "item_recommendation = pd.DataFrame(news_prediction.iloc[news_index].sort_values(ascending=False))"
      ],
      "execution_count": null,
      "outputs": []
    },
    {
      "cell_type": "code",
      "metadata": {
        "colab": {
          "background_save": true
        },
        "id": "v4ayCWech5Xe"
      },
      "source": [
        "item_recommendation.head()"
      ],
      "execution_count": null,
      "outputs": []
    },
    {
      "cell_type": "code",
      "metadata": {
        "colab": {
          "background_save": true
        },
        "id": "JxWa4D4Th5Xe"
      },
      "source": [
        ""
      ],
      "execution_count": null,
      "outputs": []
    },
    {
      "cell_type": "code",
      "metadata": {
        "colab": {
          "background_save": true
        },
        "id": "JUwdCVT-h5Xf"
      },
      "source": [
        "item_recommendation.reset_index(inplace=True)"
      ],
      "execution_count": null,
      "outputs": []
    },
    {
      "cell_type": "code",
      "metadata": {
        "colab": {
          "background_save": true
        },
        "id": "qDdQquSRh5Xf"
      },
      "source": [
        "item_recommendation.head()"
      ],
      "execution_count": null,
      "outputs": []
    },
    {
      "cell_type": "code",
      "metadata": {
        "colab": {
          "background_save": true
        },
        "id": "Nynn4vWBh5Xf"
      },
      "source": [
        "item_recommendation.columns = ['item_code', 'score']"
      ],
      "execution_count": null,
      "outputs": []
    },
    {
      "cell_type": "code",
      "metadata": {
        "colab": {
          "background_save": true
        },
        "id": "Ako8d3oLh5Xf"
      },
      "source": [
        "item_recommendation.head()"
      ],
      "execution_count": null,
      "outputs": []
    },
    {
      "cell_type": "code",
      "metadata": {
        "colab": {
          "background_save": true
        },
        "id": "OI0glS5zh5Xf",
        "scrolled": true
      },
      "source": [
        "item_recommendation.dtypes"
      ],
      "execution_count": null,
      "outputs": []
    },
    {
      "cell_type": "code",
      "metadata": {
        "colab": {
          "background_save": true
        },
        "id": "11BWGQPPh5Xg"
      },
      "source": [
        "item_recommendation.describe()"
      ],
      "execution_count": null,
      "outputs": []
    },
    {
      "cell_type": "code",
      "metadata": {
        "colab": {
          "background_save": true
        },
        "id": "RTiXXA9ah5Xg"
      },
      "source": [
        ""
      ],
      "execution_count": null,
      "outputs": []
    },
    {
      "cell_type": "code",
      "metadata": {
        "colab": {
          "background_save": true
        },
        "id": "E85N9aFYpSJK"
      },
      "source": [
        "merged = pd.merge(item_recommendation, consum_item_cd_id, on='item_code', how='inner')"
      ],
      "execution_count": null,
      "outputs": []
    },
    {
      "cell_type": "code",
      "metadata": {
        "colab": {
          "background_save": true
        },
        "id": "C0aQ8ccUpSJL"
      },
      "source": [
        "merged\n"
      ],
      "execution_count": null,
      "outputs": []
    },
    {
      "cell_type": "code",
      "metadata": {
        "colab": {
          "background_save": true
        },
        "id": "B9_FzBQapSJM"
      },
      "source": [
        "merged"
      ],
      "execution_count": null,
      "outputs": []
    },
    {
      "cell_type": "code",
      "metadata": {
        "colab": {
          "background_save": true
        },
        "id": "Dq551GlUpSJM"
      },
      "source": [
        "merged = pd.merge(merged, platform_content, on='item_id', how='left')"
      ],
      "execution_count": null,
      "outputs": []
    },
    {
      "cell_type": "code",
      "metadata": {
        "colab": {
          "background_save": true
        },
        "id": "KzC95sS3pSJN"
      },
      "source": [
        "merged"
      ],
      "execution_count": null,
      "outputs": []
    },
    {
      "cell_type": "code",
      "metadata": {
        "colab": {
          "background_save": true
        },
        "id": "1Z6KBNY0h5Xh"
      },
      "source": [
        "merged.shape"
      ],
      "execution_count": null,
      "outputs": []
    },
    {
      "cell_type": "code",
      "metadata": {
        "colab": {
          "background_save": true
        },
        "id": "t5Pp-S7Ih5Xh"
      },
      "source": [
        ""
      ],
      "execution_count": null,
      "outputs": []
    },
    {
      "cell_type": "code",
      "metadata": {
        "colab": {
          "background_save": true
        },
        "id": "MuOmRzw2h5Xi"
      },
      "source": [
        "collab_output = merged[merged['title'].notna()]"
      ],
      "execution_count": null,
      "outputs": []
    },
    {
      "cell_type": "code",
      "metadata": {
        "colab": {
          "background_save": true
        },
        "id": "9PP97bLvh5Xi"
      },
      "source": [
        "collab_output.shape"
      ],
      "execution_count": null,
      "outputs": []
    },
    {
      "cell_type": "code",
      "metadata": {
        "colab": {
          "background_save": true
        },
        "id": "QLqm8Gaih5Xi"
      },
      "source": [
        "collab_output.head(10)"
      ],
      "execution_count": null,
      "outputs": []
    },
    {
      "cell_type": "code",
      "metadata": {
        "colab": {
          "background_save": true
        },
        "id": "rCjDQBGMh5Xi"
      },
      "source": [
        "collab_output.describe()"
      ],
      "execution_count": null,
      "outputs": []
    },
    {
      "cell_type": "markdown",
      "metadata": {
        "id": "VnBIx3_Ch5Xj"
      },
      "source": [
        "### Min Max Normalization"
      ]
    },
    {
      "cell_type": "code",
      "metadata": {
        "colab": {
          "background_save": true
        },
        "id": "5ZyjA4OLh5Xk"
      },
      "source": [
        ""
      ],
      "execution_count": null,
      "outputs": []
    },
    {
      "cell_type": "code",
      "metadata": {
        "colab": {
          "background_save": true
        },
        "id": "zq77eEqjh5Xk"
      },
      "source": [
        "collab_output['collaborative_score_normalized'] = (collab_output['score']-min(collab_output['score']))/(max(collab_output['score'])-min(collab_output['score']))"
      ],
      "execution_count": null,
      "outputs": []
    },
    {
      "cell_type": "code",
      "metadata": {
        "colab": {
          "background_save": true
        },
        "id": "J8cKZ8vdh5Xk"
      },
      "source": [
        "collab_output.head()"
      ],
      "execution_count": null,
      "outputs": []
    },
    {
      "cell_type": "code",
      "metadata": {
        "colab": {
          "background_save": true
        },
        "id": "f9jFqZ_th5Xk"
      },
      "source": [
        "collab_output.describe()"
      ],
      "execution_count": null,
      "outputs": []
    },
    {
      "cell_type": "code",
      "metadata": {
        "colab": {
          "background_save": true
        },
        "id": "qEyFYBsCh5Xl"
      },
      "source": [
        "collab_output.shape"
      ],
      "execution_count": null,
      "outputs": []
    },
    {
      "cell_type": "code",
      "metadata": {
        "colab": {
          "background_save": true
        },
        "id": "3Nusb5H3h5Xl"
      },
      "source": [
        "collab_output['title'][:10]"
      ],
      "execution_count": null,
      "outputs": []
    },
    {
      "cell_type": "code",
      "metadata": {
        "colab": {
          "background_save": true
        },
        "id": "UkMhgj6GiGJ3"
      },
      "source": [
        ""
      ],
      "execution_count": null,
      "outputs": []
    },
    {
      "cell_type": "code",
      "metadata": {
        "colab": {
          "background_save": true
        },
        "id": "qzGmimheiGXO"
      },
      "source": [
        ""
      ],
      "execution_count": null,
      "outputs": []
    },
    {
      "cell_type": "markdown",
      "metadata": {
        "id": "AL0uXhOfh5Xm"
      },
      "source": [
        "# Content Based Recommendations"
      ]
    },
    {
      "cell_type": "code",
      "metadata": {
        "colab": {
          "background_save": true
        },
        "id": "747y-unDh5Xn"
      },
      "source": [
        "platform_content.columns"
      ],
      "execution_count": null,
      "outputs": []
    },
    {
      "cell_type": "code",
      "metadata": {
        "colab": {
          "background_save": true
        },
        "id": "1XCtzXT2h5Xn"
      },
      "source": [
        ""
      ],
      "execution_count": null,
      "outputs": []
    },
    {
      "cell_type": "code",
      "metadata": {
        "colab": {
          "background_save": true
        },
        "id": "W3f7dyMdh5Xn"
      },
      "source": [
        "news_keywords = platform_content[['title', 'text_description']]"
      ],
      "execution_count": null,
      "outputs": []
    },
    {
      "cell_type": "code",
      "metadata": {
        "colab": {
          "background_save": true
        },
        "id": "NOW-QHX4rQc-"
      },
      "source": [
        "news_keywords.columns"
      ],
      "execution_count": null,
      "outputs": []
    },
    {
      "cell_type": "code",
      "metadata": {
        "colab": {
          "background_save": true
        },
        "id": "j6E_lUqIrQsV"
      },
      "source": [
        ""
      ],
      "execution_count": null,
      "outputs": []
    },
    {
      "cell_type": "markdown",
      "metadata": {
        "id": "xnj_u0ALh5Xo"
      },
      "source": [
        "## convert to numpy arrays"
      ]
    },
    {
      "cell_type": "code",
      "metadata": {
        "colab": {
          "background_save": true
        },
        "id": "Gh-GBEfGh5Xo"
      },
      "source": [
        "keywords_array = news_keywords['text_description'].to_numpy()"
      ],
      "execution_count": null,
      "outputs": []
    },
    {
      "cell_type": "code",
      "metadata": {
        "colab": {
          "background_save": true
        },
        "id": "ZqLLa8dYh5Xp"
      },
      "source": [
        "keywords_array"
      ],
      "execution_count": null,
      "outputs": []
    },
    {
      "cell_type": "code",
      "metadata": {
        "colab": {
          "background_save": true
        },
        "id": "joFtooDEh5Xp"
      },
      "source": [
        "len(keywords_array)"
      ],
      "execution_count": null,
      "outputs": []
    },
    {
      "cell_type": "code",
      "metadata": {
        "colab": {
          "background_save": true
        },
        "id": "5WAmG_cjh5Xq"
      },
      "source": [
        "news_keywords.shape"
      ],
      "execution_count": null,
      "outputs": []
    },
    {
      "cell_type": "code",
      "metadata": {
        "colab": {
          "background_save": true
        },
        "id": "76w__vmQh5Xr"
      },
      "source": [
        "keywords_array[0]"
      ],
      "execution_count": null,
      "outputs": []
    },
    {
      "cell_type": "markdown",
      "metadata": {
        "id": "Zm0W-pAah5Xr"
      },
      "source": [
        "## Split keywords & create word list"
      ]
    },
    {
      "cell_type": "code",
      "metadata": {
        "colab": {
          "background_save": true
        },
        "id": "t9owLcgvh5Xr"
      },
      "source": [
        "words_list = []\n",
        "\n",
        "for keyword in keywords_array:\n",
        "    \n",
        "    splitted_words = str(keyword).lower().split()\n",
        "    \n",
        "    words_list.append(splitted_words)"
      ],
      "execution_count": null,
      "outputs": []
    },
    {
      "cell_type": "code",
      "metadata": {
        "colab": {
          "background_save": true
        },
        "id": "QBZYlwmgh5Xs"
      },
      "source": [
        "words_list"
      ],
      "execution_count": null,
      "outputs": []
    },
    {
      "cell_type": "code",
      "metadata": {
        "colab": {
          "background_save": true
        },
        "id": "myYRbwo_h5Xs"
      },
      "source": [
        "len(words_list), len(words_list[0]), len(words_list[1])"
      ],
      "execution_count": null,
      "outputs": []
    },
    {
      "cell_type": "markdown",
      "metadata": {
        "id": "RIlqJ40Fh5Xu"
      },
      "source": [
        "## Create Dictionary, BOW, tfidf model & Similarity Matrix"
      ]
    },
    {
      "cell_type": "code",
      "metadata": {
        "colab": {
          "background_save": true
        },
        "id": "uuXwEu-lh5Xu"
      },
      "source": [
        "from gensim.corpora.dictionary import Dictionary\n",
        "\n",
        "# create a dictionary from words list\n",
        "dictionary = Dictionary(words_list) \n",
        "\n",
        "#create corpus where the corpus is a bag of words for each document\n",
        "corpus = [dictionary.doc2bow(doc) for doc in words_list] \n",
        "\n",
        "from gensim.models.tfidfmodel import TfidfModel\n",
        "#create tfidf model of the corpus\n",
        "tfidf = TfidfModel(corpus) \n",
        "\n",
        "from gensim.similarities import MatrixSimilarity\n",
        "# Create the similarity matrix. This is the most important part where we get the similarities between the news.\n",
        "sims = MatrixSimilarity(tfidf[corpus], num_features=len(dictionary))\n"
      ],
      "execution_count": null,
      "outputs": []
    },
    {
      "cell_type": "code",
      "metadata": {
        "colab": {
          "background_save": true
        },
        "id": "udrFryBHh5Xu"
      },
      "source": [
        "print(sims)"
      ],
      "execution_count": null,
      "outputs": []
    },
    {
      "cell_type": "code",
      "metadata": {
        "colab": {
          "background_save": true
        },
        "id": "XOPWZ9j2h5Xu"
      },
      "source": [
        ""
      ],
      "execution_count": null,
      "outputs": []
    },
    {
      "cell_type": "markdown",
      "metadata": {
        "id": "3QBsCRCvh5Xx"
      },
      "source": [
        "\n",
        "\n",
        "```\n",
        "# This is formatted as code\n",
        "```\n",
        "\n",
        "## For an input news, Run the Model & return Recommended news"
      ]
    },
    {
      "cell_type": "code",
      "metadata": {
        "colab": {
          "background_save": true
        },
        "id": "Wyjrv7W1h5Xx"
      },
      "source": [
        ""
      ],
      "execution_count": null,
      "outputs": []
    },
    {
      "cell_type": "code",
      "metadata": {
        "colab": {
          "background_save": true
        },
        "id": "3caTGrtQh5Xx"
      },
      "source": [
        "def news_recommendation(news_title):\n",
        "    # get the news row\n",
        "    news = news_keywords.loc[news_keywords.title==news_title] \n",
        "    \n",
        "    #split the keywords\n",
        "    keywords = news['text_description'].iloc[0].split() \n",
        "\n",
        "    #set the list of words to query_doc\n",
        "    query_doc = keywords \n",
        "    \n",
        "    # get a bag of words from the query_doc\n",
        "    query_doc_bow = dictionary.doc2bow(query_doc) \n",
        "\n",
        "    #convert the regular bag of words model to a tf-idf model\n",
        "    query_doc_tfidf = tfidf[query_doc_bow] \n",
        "\n",
        "    # get similarity values between input news and all other news\n",
        "    similarity_array = sims[query_doc_tfidf] \n",
        "\n",
        "    #Convert to a Series\n",
        "    similarity_series = pd.Series(similarity_array.tolist(), index=news_keywords.title.values) \n",
        "\n",
        "    #get the most similar news \n",
        "    similarity_output = similarity_series.sort_values(ascending=False)\n",
        "    return similarity_output"
      ],
      "execution_count": null,
      "outputs": []
    },
    {
      "cell_type": "code",
      "metadata": {
        "colab": {
          "background_save": true
        },
        "id": "6YA9hkWBh5Xx"
      },
      "source": [
        ""
      ],
      "execution_count": null,
      "outputs": []
    },
    {
      "cell_type": "code",
      "metadata": {
        "colab": {
          "background_save": true
        },
        "id": "6OI3Y3LXh5Xx"
      },
      "source": [
        "news_keywords[\"title\"]"
      ],
      "execution_count": null,
      "outputs": []
    },
    {
      "cell_type": "code",
      "metadata": {
        "colab": {
          "background_save": true
        },
        "id": "StbXLMK_h5Xx"
      },
      "source": [
        "content_output = news_recommendation('JPMorgan Software Does in Seconds What Took Lawyers 360,000 Hours')"
      ],
      "execution_count": null,
      "outputs": []
    },
    {
      "cell_type": "code",
      "metadata": {
        "colab": {
          "background_save": true
        },
        "id": "18XgGKFch5Xy"
      },
      "source": [
        "content_output"
      ],
      "execution_count": null,
      "outputs": []
    },
    {
      "cell_type": "code",
      "metadata": {
        "colab": {
          "background_save": true
        },
        "id": "2jq7hVsUh5Xy"
      },
      "source": [
        "content_output[:10]"
      ],
      "execution_count": null,
      "outputs": []
    },
    {
      "cell_type": "code",
      "metadata": {
        "colab": {
          "background_save": true
        },
        "id": "17tThQcYh5Xy"
      },
      "source": [
        "type(content_output)"
      ],
      "execution_count": null,
      "outputs": []
    },
    {
      "cell_type": "code",
      "metadata": {
        "colab": {
          "background_save": true
        },
        "id": "sT9cKINeh5X0"
      },
      "source": [
        ""
      ],
      "execution_count": null,
      "outputs": []
    },
    {
      "cell_type": "code",
      "metadata": {
        "colab": {
          "background_save": true
        },
        "id": "Txqz_Lzmh5X1"
      },
      "source": [
        "content_df = pd.DataFrame(content_output)"
      ],
      "execution_count": null,
      "outputs": []
    },
    {
      "cell_type": "code",
      "metadata": {
        "colab": {
          "background_save": true
        },
        "id": "a13Yxy2kh5X1"
      },
      "source": [
        "content_df.head()"
      ],
      "execution_count": null,
      "outputs": []
    },
    {
      "cell_type": "code",
      "metadata": {
        "colab": {
          "background_save": true
        },
        "id": "Ry-IGE_Ch5X2"
      },
      "source": [
        ""
      ],
      "execution_count": null,
      "outputs": []
    },
    {
      "cell_type": "code",
      "metadata": {
        "colab": {
          "background_save": true
        },
        "id": "sc9HlpbQh5X2"
      },
      "source": [
        "content_df.reset_index(inplace=True)"
      ],
      "execution_count": null,
      "outputs": []
    },
    {
      "cell_type": "code",
      "metadata": {
        "colab": {
          "background_save": true
        },
        "id": "YP57lpy0h5X3"
      },
      "source": [
        "content_df.columns = ['title', 'score']"
      ],
      "execution_count": null,
      "outputs": []
    },
    {
      "cell_type": "code",
      "metadata": {
        "colab": {
          "background_save": true
        },
        "id": "Gz5a2z-kh5X3"
      },
      "source": [
        "content_df.head()"
      ],
      "execution_count": null,
      "outputs": []
    },
    {
      "cell_type": "code",
      "metadata": {
        "colab": {
          "background_save": true
        },
        "id": "nROmlZioh5X4"
      },
      "source": [
        ""
      ],
      "execution_count": null,
      "outputs": []
    },
    {
      "cell_type": "code",
      "metadata": {
        "colab": {
          "background_save": true
        },
        "id": "8dGkHdm6h5X5"
      },
      "source": [
        "content_df['content_score_normalized'] = (content_df['score']-min(content_df['score'])) / (max(content_df['score']) - min(content_df['score']))"
      ],
      "execution_count": null,
      "outputs": []
    },
    {
      "cell_type": "code",
      "metadata": {
        "colab": {
          "background_save": true
        },
        "id": "0lLzeaaeh5X5"
      },
      "source": [
        "content_df.head()"
      ],
      "execution_count": null,
      "outputs": []
    },
    {
      "cell_type": "code",
      "metadata": {
        "colab": {
          "background_save": true
        },
        "id": "EadIlF2ph5X6",
        "scrolled": true
      },
      "source": [
        "content_df.describe()"
      ],
      "execution_count": null,
      "outputs": []
    },
    {
      "cell_type": "code",
      "metadata": {
        "colab": {
          "background_save": true
        },
        "id": "yKQHYsiOh5X7"
      },
      "source": [
        "content_df.shape"
      ],
      "execution_count": null,
      "outputs": []
    },
    {
      "cell_type": "code",
      "metadata": {
        "colab": {
          "background_save": true
        },
        "id": "x6fewpz6ufq7"
      },
      "source": [
        ""
      ],
      "execution_count": null,
      "outputs": []
    },
    {
      "cell_type": "markdown",
      "metadata": {
        "id": "ouoDGGwKh5X9"
      },
      "source": [
        "# Hybrid: Combine two Models"
      ]
    },
    {
      "cell_type": "code",
      "metadata": {
        "colab": {
          "background_save": true
        },
        "id": "BwzCFB_4h5X-"
      },
      "source": [
        ""
      ],
      "execution_count": null,
      "outputs": []
    },
    {
      "cell_type": "code",
      "metadata": {
        "colab": {
          "background_save": true
        },
        "id": "MNhT75Nmh5X-"
      },
      "source": [
        "hybrid_output = pd.merge(collab_output,content_df, how='left', on='title')"
      ],
      "execution_count": null,
      "outputs": []
    },
    {
      "cell_type": "code",
      "metadata": {
        "colab": {
          "background_save": true
        },
        "id": "n492-10Uh5X_"
      },
      "source": [
        "hybrid_output.head()"
      ],
      "execution_count": null,
      "outputs": []
    },
    {
      "cell_type": "code",
      "metadata": {
        "colab": {
          "background_save": true
        },
        "id": "PI85mQaqh5X_"
      },
      "source": [
        "hybrid_output.shape"
      ],
      "execution_count": null,
      "outputs": []
    },
    {
      "cell_type": "code",
      "metadata": {
        "colab": {
          "background_save": true
        },
        "id": "X6UKcQlVh5YA"
      },
      "source": [
        "hybrid_output['final_score'] = (hybrid_output['collaborative_score_normalized'] + hybrid_output['content_score_normalized'])/2"
      ],
      "execution_count": null,
      "outputs": []
    },
    {
      "cell_type": "code",
      "metadata": {
        "colab": {
          "background_save": true
        },
        "id": "P80IHX6Qh5YA"
      },
      "source": [
        "hybrid_output.head()"
      ],
      "execution_count": null,
      "outputs": []
    },
    {
      "cell_type": "code",
      "metadata": {
        "colab": {
          "background_save": true
        },
        "id": "uMgeE-0Ih5YA"
      },
      "source": [
        ""
      ],
      "execution_count": null,
      "outputs": []
    },
    {
      "cell_type": "code",
      "metadata": {
        "colab": {
          "background_save": true
        },
        "id": "47CYbH_5h5YA"
      },
      "source": [
        "hybrid_output = hybrid_output[['title','final_score']]"
      ],
      "execution_count": null,
      "outputs": []
    },
    {
      "cell_type": "code",
      "metadata": {
        "colab": {
          "background_save": true
        },
        "id": "uz_9vwm6h5YA"
      },
      "source": [
        "hybrid_output.head()"
      ],
      "execution_count": null,
      "outputs": []
    },
    {
      "cell_type": "code",
      "metadata": {
        "colab": {
          "background_save": true
        },
        "id": "6Of2i9-Mh5YB"
      },
      "source": [
        "hybrid_output.sort_values(by='final_score', ascending=False)[:10]"
      ],
      "execution_count": null,
      "outputs": []
    },
    {
      "cell_type": "code",
      "metadata": {
        "colab": {
          "background_save": true
        },
        "id": "3wd3sdZNh5YB"
      },
      "source": [
        "hybrid_output.shape"
      ],
      "execution_count": null,
      "outputs": []
    },
    {
      "cell_type": "code",
      "metadata": {
        "colab": {
          "background_save": true
        },
        "id": "emuUShOsh5YB"
      },
      "source": [
        ""
      ],
      "execution_count": null,
      "outputs": []
    },
    {
      "cell_type": "markdown",
      "metadata": {
        "id": "wKtd9oXG0Vgj"
      },
      "source": [
        "## Model evaluation\n",
        "\n",
        "Use appropriate evaluation metrics, such as RMSE, MAE and precision@k, to evaluate the recommendations generated for a user as mentioned in the first part of the problem statement and use global precision@k to assess the overall performance of the recommendation system.\n",
        "\n",
        " \n",
        "\n",
        "Also, recommend appropriate evaluation techniques for the second problem statement. This is an open-ended question and you can explore the different techniques that are available for online evaluation and give your thoughts on it. You need not come up with the ones which are already covered in the module."
      ]
    },
    {
      "cell_type": "code",
      "metadata": {
        "colab": {
          "background_save": true
        },
        "id": "u-a1D-IO0Znb"
      },
      "source": [
        ""
      ],
      "execution_count": null,
      "outputs": []
    },
    {
      "cell_type": "markdown",
      "metadata": {
        "id": "p3T5YH0F08l6"
      },
      "source": [
        "### USER Based Method - Evaluation"
      ]
    },
    {
      "cell_type": "code",
      "metadata": {
        "colab": {
          "background_save": true
        },
        "id": "Vm1o_3pFqT3f"
      },
      "source": [
        "from sklearn.model_selection import train_test_split\n",
        "train, test = train_test_split(consumer_rating, test_size=0.30, random_state=31)"
      ],
      "execution_count": null,
      "outputs": []
    },
    {
      "cell_type": "code",
      "metadata": {
        "colab": {
          "background_save": true
        },
        "id": "mYe9rveaqT3g"
      },
      "source": [
        ""
      ],
      "execution_count": null,
      "outputs": []
    },
    {
      "cell_type": "code",
      "metadata": {
        "colab": {
          "background_save": true
        },
        "id": "z6XlHXF5qT3g"
      },
      "source": [
        "print(train.shape)\n",
        "print(test.shape)"
      ],
      "execution_count": null,
      "outputs": []
    },
    {
      "cell_type": "code",
      "metadata": {
        "colab": {
          "background_save": true
        },
        "id": "QGwXT-BAqT3h"
      },
      "source": [
        "consumer_rating.shape"
      ],
      "execution_count": null,
      "outputs": []
    },
    {
      "cell_type": "code",
      "metadata": {
        "colab": {
          "background_save": true
        },
        "id": "LehNqsadqT3i"
      },
      "source": [
        "train.head()"
      ],
      "execution_count": null,
      "outputs": []
    },
    {
      "cell_type": "code",
      "metadata": {
        "colab": {
          "background_save": true
        },
        "id": "oCrUsns2qT3j"
      },
      "source": [
        "test.head()"
      ],
      "execution_count": null,
      "outputs": []
    },
    {
      "cell_type": "code",
      "metadata": {
        "colab": {
          "background_save": true
        },
        "id": "gjWcxb-9qT3k"
      },
      "source": [
        ""
      ],
      "execution_count": null,
      "outputs": []
    },
    {
      "cell_type": "markdown",
      "metadata": {
        "id": "tOCDIF4wqT3k"
      },
      "source": [
        "## Create empty data matrix: user*news"
      ]
    },
    {
      "cell_type": "code",
      "metadata": {
        "colab": {
          "background_save": true
        },
        "id": "5DerTh2jqT3l"
      },
      "source": [
        ""
      ],
      "execution_count": null,
      "outputs": []
    },
    {
      "cell_type": "code",
      "metadata": {
        "colab": {
          "background_save": true
        },
        "id": "eXreHABiqT3l"
      },
      "source": [
        "data_matrix = np.zeros((n_users, n_items))\n"
      ],
      "execution_count": null,
      "outputs": []
    },
    {
      "cell_type": "code",
      "metadata": {
        "colab": {
          "background_save": true
        },
        "id": "O8aNeBk7qT3l"
      },
      "source": [
        "data_matrix"
      ],
      "execution_count": null,
      "outputs": []
    },
    {
      "cell_type": "code",
      "metadata": {
        "colab": {
          "background_save": true
        },
        "id": "y4aTPfx3qT3m"
      },
      "source": [
        ""
      ],
      "execution_count": null,
      "outputs": []
    },
    {
      "cell_type": "code",
      "metadata": {
        "colab": {
          "background_save": true
        },
        "id": "Nbt9SY54qT3m",
        "scrolled": true
      },
      "source": [
        "data_matrix.shape   "
      ],
      "execution_count": null,
      "outputs": []
    },
    {
      "cell_type": "code",
      "metadata": {
        "colab": {
          "background_save": true
        },
        "id": "akpx_085YYdE"
      },
      "source": [
        "df_pivot = train.pivot(\n",
        "    index='consumer_code',\n",
        "    columns='item_code',\n",
        "    values='interaction_type'\n",
        ").fillna(0)\n",
        "\n",
        "df_pivot.head(3)"
      ],
      "execution_count": null,
      "outputs": []
    },
    {
      "cell_type": "code",
      "metadata": {
        "colab": {
          "background_save": true
        },
        "id": "2Xn9BvnUbHVI"
      },
      "source": [
        ""
      ],
      "execution_count": null,
      "outputs": []
    },
    {
      "cell_type": "code",
      "metadata": {
        "colab": {
          "background_save": true
        },
        "id": "zttrkghGExdD"
      },
      "source": [
        "# Copy the train dataset into dummy_train\n",
        "dummy_train = train.copy()"
      ],
      "execution_count": null,
      "outputs": []
    },
    {
      "cell_type": "code",
      "metadata": {
        "colab": {
          "background_save": true
        },
        "id": "3G4s9lvVExdD"
      },
      "source": [
        "# The movies not rated by user is marked as 1 for prediction. \n",
        "dummy_train['interaction_type'] = dummy_train['interaction_type'].apply(lambda x: 0 if x>=1 else 1)"
      ],
      "execution_count": null,
      "outputs": []
    },
    {
      "cell_type": "code",
      "metadata": {
        "colab": {
          "background_save": true
        },
        "id": "UFSn3np7ExdD"
      },
      "source": [
        "# Convert the dummy train dataset into matrix format.\n",
        "dummy_train = dummy_train.pivot(\n",
        "    index='consumer_code',\n",
        "    columns='item_code',\n",
        "    values='interaction_type'\n",
        ").fillna(1)"
      ],
      "execution_count": null,
      "outputs": []
    },
    {
      "cell_type": "code",
      "metadata": {
        "colab": {
          "background_save": true
        },
        "id": "Of3c1dioExdD"
      },
      "source": [
        "dummy_train.head()"
      ],
      "execution_count": null,
      "outputs": []
    },
    {
      "cell_type": "code",
      "metadata": {
        "colab": {
          "background_save": true
        },
        "id": "mur6jV9TbHOw"
      },
      "source": [
        ""
      ],
      "execution_count": null,
      "outputs": []
    },
    {
      "cell_type": "markdown",
      "metadata": {
        "id": "xCN3f1X0ExdE"
      },
      "source": [
        "## Using Cosine Similarity"
      ]
    },
    {
      "cell_type": "code",
      "metadata": {
        "colab": {
          "background_save": true
        },
        "id": "AerlX5jdExdE"
      },
      "source": [
        "from sklearn.metrics.pairwise import pairwise_distances\n",
        "\n",
        "# Creating the User Similarity Matrix using pairwise_distance function.\n",
        "user_correlation = 1 - pairwise_distances(df_pivot, metric='cosine')\n",
        "user_correlation[np.isnan(user_correlation)] = 0\n",
        "print(user_correlation)"
      ],
      "execution_count": null,
      "outputs": []
    },
    {
      "cell_type": "code",
      "metadata": {
        "colab": {
          "background_save": true
        },
        "id": "5EA6M0wUExdF"
      },
      "source": [
        "user_correlation.shape"
      ],
      "execution_count": null,
      "outputs": []
    },
    {
      "cell_type": "markdown",
      "metadata": {
        "id": "UqRArQEDExdF"
      },
      "source": [
        "## Using adjusted Cosine "
      ]
    },
    {
      "cell_type": "markdown",
      "metadata": {
        "id": "oP9vrfQuExdF"
      },
      "source": [
        "### Here, we are not removing the NaN values and calculating the mean \n",
        "only for the movies rated by the user"
      ]
    },
    {
      "cell_type": "code",
      "metadata": {
        "colab": {
          "background_save": true
        },
        "id": "NK8Z9wxKExdF"
      },
      "source": [
        "# Create a user-movie matrix.\n",
        "df_pivot = train.pivot(\n",
        "    index='consumer_code',\n",
        "    columns='item_code',\n",
        "    values='interaction_type'\n",
        ")"
      ],
      "execution_count": null,
      "outputs": []
    },
    {
      "cell_type": "code",
      "metadata": {
        "colab": {
          "background_save": true
        },
        "id": "2M9VgXElExdG"
      },
      "source": [
        "df_pivot.head()"
      ],
      "execution_count": null,
      "outputs": []
    },
    {
      "cell_type": "markdown",
      "metadata": {
        "id": "3xIwq2tEExdG"
      },
      "source": [
        "### Normalising the rating of the movie for each user around 0 mean"
      ]
    },
    {
      "cell_type": "code",
      "metadata": {
        "colab": {
          "background_save": true
        },
        "id": "iIPOrBJJExdG"
      },
      "source": [
        "mean = np.nanmean(df_pivot, axis=1)\n",
        "df_subtracted = (df_pivot.T-mean).T"
      ],
      "execution_count": null,
      "outputs": []
    },
    {
      "cell_type": "code",
      "metadata": {
        "colab": {
          "background_save": true
        },
        "id": "YG9wWuF6ExdG"
      },
      "source": [
        "df_subtracted.head()"
      ],
      "execution_count": null,
      "outputs": []
    },
    {
      "cell_type": "markdown",
      "metadata": {
        "id": "Hhn3tGtCExdG"
      },
      "source": [
        "### Finding cosine similarity"
      ]
    },
    {
      "cell_type": "code",
      "metadata": {
        "colab": {
          "background_save": true
        },
        "id": "cz9Mt3W0ExdH"
      },
      "source": [
        "from sklearn.metrics.pairwise import pairwise_distances"
      ],
      "execution_count": null,
      "outputs": []
    },
    {
      "cell_type": "code",
      "metadata": {
        "colab": {
          "background_save": true
        },
        "id": "p6WRLBAIPd_k"
      },
      "source": [
        "# Creating the User Similarity Matrix using pairwise_distance function.\n",
        "user_correlation = 1 - pairwise_distances(df_subtracted.fillna(0), metric='cosine')\n",
        "user_correlation[np.isnan(user_correlation)] = 0\n",
        "print(user_correlation)"
      ],
      "execution_count": null,
      "outputs": []
    },
    {
      "cell_type": "markdown",
      "metadata": {
        "id": "Sv4DnzeboflU"
      },
      "source": [
        "Evaluation will we same as you have seen above for the prediction. The only difference being, you will evaluate for the movie already rated by the user insead of predicting it for the movie not rated by the user. "
      ]
    },
    {
      "cell_type": "code",
      "metadata": {
        "colab": {
          "background_save": true
        },
        "id": "ximYScqrrm0f"
      },
      "source": [
        ""
      ],
      "execution_count": null,
      "outputs": []
    },
    {
      "cell_type": "code",
      "metadata": {
        "colab": {
          "background_save": true
        },
        "id": "XEmwKMPTrm_o"
      },
      "source": [
        ""
      ],
      "execution_count": null,
      "outputs": []
    },
    {
      "cell_type": "code",
      "metadata": {
        "colab": {
          "background_save": true
        },
        "id": "bgXD45J9rnJz"
      },
      "source": [
        ""
      ],
      "execution_count": null,
      "outputs": []
    },
    {
      "cell_type": "code",
      "metadata": {
        "colab": {
          "background_save": true
        },
        "id": "QrWgnWVfrnTD"
      },
      "source": [
        ""
      ],
      "execution_count": null,
      "outputs": []
    },
    {
      "cell_type": "code",
      "metadata": {
        "colab": {
          "background_save": true
        },
        "id": "jTAMAiCqoflV"
      },
      "source": [
        "# Find out the common users of test and train dataset.\n",
        "common = test[test.consumer_code.isin(train.consumer_code)]\n",
        "common.shape"
      ],
      "execution_count": null,
      "outputs": []
    },
    {
      "cell_type": "code",
      "metadata": {
        "colab": {
          "background_save": true
        },
        "id": "sTMqgWYtoflV"
      },
      "source": [
        "common.head()"
      ],
      "execution_count": null,
      "outputs": []
    },
    {
      "cell_type": "code",
      "metadata": {
        "colab": {
          "background_save": true
        },
        "id": "4IFpOTyeoflW"
      },
      "source": [
        "# convert into the user-movie matrix.\n",
        "common_user_based_matrix = common.pivot_table(index='consumer_code', columns='item_code', values='interaction_type')"
      ],
      "execution_count": null,
      "outputs": []
    },
    {
      "cell_type": "code",
      "metadata": {
        "colab": {
          "background_save": true
        },
        "id": "SH7i0WFfoflW"
      },
      "source": [
        "# Convert the user_correlation matrix into dataframe.\n",
        "user_correlation_df = pd.DataFrame(user_correlation)"
      ],
      "execution_count": null,
      "outputs": []
    },
    {
      "cell_type": "code",
      "metadata": {
        "colab": {
          "background_save": true
        },
        "id": "LWhAv35foflW"
      },
      "source": [
        "df_subtracted.head(1)"
      ],
      "execution_count": null,
      "outputs": []
    },
    {
      "cell_type": "code",
      "metadata": {
        "colab": {
          "background_save": true
        },
        "id": "wDVHF9tkoflX"
      },
      "source": [
        "user_correlation_df['consumer_code'] = df_subtracted.index\n",
        "user_correlation_df.set_index('consumer_code',inplace=True)\n",
        "user_correlation_df.head()"
      ],
      "execution_count": null,
      "outputs": []
    },
    {
      "cell_type": "code",
      "metadata": {
        "colab": {
          "background_save": true
        },
        "id": "K1LIYGngoflX"
      },
      "source": [
        "common.head(1)"
      ],
      "execution_count": null,
      "outputs": []
    },
    {
      "cell_type": "code",
      "metadata": {
        "colab": {
          "background_save": true
        },
        "id": "vbVLc32woflX"
      },
      "source": [
        "list_name = common.consumer_code.tolist()\n",
        "\n",
        "user_correlation_df.columns = df_subtracted.index.tolist()\n",
        "\n",
        "\n",
        "user_correlation_df_1 =  user_correlation_df[user_correlation_df.index.isin(list_name)]"
      ],
      "execution_count": null,
      "outputs": []
    },
    {
      "cell_type": "code",
      "metadata": {
        "colab": {
          "background_save": true
        },
        "id": "Ip3u4ITFoflX"
      },
      "source": [
        "user_correlation_df_1.shape"
      ],
      "execution_count": null,
      "outputs": []
    },
    {
      "cell_type": "code",
      "metadata": {
        "colab": {
          "background_save": true
        },
        "id": "THqWM0btoflX"
      },
      "source": [
        "user_correlation_df_2 = user_correlation_df_1.T[user_correlation_df_1.T.index.isin(list_name)]"
      ],
      "execution_count": null,
      "outputs": []
    },
    {
      "cell_type": "code",
      "metadata": {
        "colab": {
          "background_save": true
        },
        "id": "sNtBboRooflY"
      },
      "source": [
        "user_correlation_df_3 = user_correlation_df_2.T"
      ],
      "execution_count": null,
      "outputs": []
    },
    {
      "cell_type": "code",
      "metadata": {
        "colab": {
          "background_save": true
        },
        "id": "dMT2WTq9oflY"
      },
      "source": [
        "user_correlation_df_3.head()"
      ],
      "execution_count": null,
      "outputs": []
    },
    {
      "cell_type": "code",
      "metadata": {
        "colab": {
          "background_save": true
        },
        "id": "9O2LDR78tiIw"
      },
      "source": [
        "user_correlation_df_3.shape"
      ],
      "execution_count": null,
      "outputs": []
    },
    {
      "cell_type": "code",
      "metadata": {
        "colab": {
          "background_save": true
        },
        "id": "9CD6JjBVoflY"
      },
      "source": [
        "user_correlation_df_3[user_correlation_df_3<0]=0\n",
        "\n",
        "common_user_predicted_ratings = np.dot(user_correlation_df_3, common_user_based_matrix.fillna(0))\n",
        "common_user_predicted_ratings"
      ],
      "execution_count": null,
      "outputs": []
    },
    {
      "cell_type": "code",
      "metadata": {
        "colab": {
          "background_save": true
        },
        "id": "Mbe5y3mWoflY"
      },
      "source": [
        "dummy_test = common.copy()\n",
        "\n",
        "dummy_test['interaction_type'] = dummy_test['interaction_type'].apply(lambda x: 1 if x>=1 else 0)\n",
        "\n",
        "dummy_test = dummy_test.pivot_table(index='consumer_code', columns='item_code', values='interaction_type').fillna(0)"
      ],
      "execution_count": null,
      "outputs": []
    },
    {
      "cell_type": "code",
      "metadata": {
        "colab": {
          "background_save": true
        },
        "id": "jguea31yoflY"
      },
      "source": [
        "dummy_test.shape"
      ],
      "execution_count": null,
      "outputs": []
    },
    {
      "cell_type": "code",
      "metadata": {
        "colab": {
          "background_save": true
        },
        "id": "mjBXh_z3oflZ"
      },
      "source": [
        "common_user_predicted_ratings = np.multiply(common_user_predicted_ratings,dummy_test)"
      ],
      "execution_count": null,
      "outputs": []
    },
    {
      "cell_type": "code",
      "metadata": {
        "colab": {
          "background_save": true
        },
        "id": "h1GndCymoflZ"
      },
      "source": [
        "common_user_predicted_ratings.head(2)"
      ],
      "execution_count": null,
      "outputs": []
    },
    {
      "cell_type": "markdown",
      "metadata": {
        "id": "emGudTfJoflZ"
      },
      "source": [
        "Calculating the RMSE for only the movies rated by user. For RMSE, normalising the rating to (1,5) range."
      ]
    },
    {
      "cell_type": "code",
      "metadata": {
        "colab": {
          "background_save": true
        },
        "id": "6hNEKDAwoflZ"
      },
      "source": [
        "from sklearn.preprocessing import MinMaxScaler\n",
        "from numpy import *\n",
        "\n",
        "X  = common_user_predicted_ratings.copy() \n",
        "X = X[X>0]\n",
        "\n",
        "scaler = MinMaxScaler(feature_range=(1, 5))\n",
        "print(scaler.fit(X))\n",
        "y = (scaler.transform(X))\n",
        "\n",
        "print(y)"
      ],
      "execution_count": null,
      "outputs": []
    },
    {
      "cell_type": "code",
      "metadata": {
        "colab": {
          "background_save": true
        },
        "id": "Y-OYsB-4oflZ"
      },
      "source": [
        "common_ = common.pivot_table(index='consumer_code', columns='item_code', values='interaction_type')"
      ],
      "execution_count": null,
      "outputs": []
    },
    {
      "cell_type": "code",
      "metadata": {
        "colab": {
          "background_save": true
        },
        "id": "aJRM9xMAofla"
      },
      "source": [
        "# Finding total non-NaN value\n",
        "total_non_nan = np.count_nonzero(~np.isnan(y))"
      ],
      "execution_count": null,
      "outputs": []
    },
    {
      "cell_type": "code",
      "metadata": {
        "colab": {
          "background_save": true
        },
        "id": "dhnKWyazofla"
      },
      "source": [
        "rmse = (sum(sum((common_ - y )**2))/total_non_nan)**0.5\n",
        "print(rmse)"
      ],
      "execution_count": null,
      "outputs": []
    },
    {
      "cell_type": "code",
      "metadata": {
        "colab": {
          "background_save": true
        },
        "id": "j9gQsfXOsd_D"
      },
      "source": [
        ""
      ],
      "execution_count": null,
      "outputs": []
    },
    {
      "cell_type": "markdown",
      "metadata": {
        "id": "jjg4AQbcExdN"
      },
      "source": [
        "# Evaluation - Item Item"
      ]
    },
    {
      "cell_type": "markdown",
      "metadata": {
        "id": "qtw9ebU1ExdN"
      },
      "source": [
        "Taking the transpose of the rating matrix to normalize the rating around the mean for different movie ID. In the user based similarity, we had taken mean for each user instead of each movie.\n",
        "\n",
        "Evaluation will we same as you have seen above for the prediction. The only difference being, you will evaluate for the movie already rated by the user insead of predicting it for the movie not rated by the user. "
      ]
    },
    {
      "cell_type": "code",
      "metadata": {
        "colab": {
          "background_save": true
        },
        "id": "0MNtlx1r2LWf"
      },
      "source": [
        "df_pivot = train.pivot(\n",
        "    index='consumer_code',\n",
        "    columns='item_code',\n",
        "    values='interaction_type'\n",
        ").T\n",
        "\n",
        "df_pivot.head()"
      ],
      "execution_count": null,
      "outputs": []
    },
    {
      "cell_type": "code",
      "metadata": {
        "colab": {
          "background_save": true
        },
        "id": "frEltXO52Wo-"
      },
      "source": [
        "mean = np.nanmean(df_pivot, axis=1)\n",
        "df_subtracted = (df_pivot.T-mean).T"
      ],
      "execution_count": null,
      "outputs": []
    },
    {
      "cell_type": "code",
      "metadata": {
        "colab": {
          "background_save": true
        },
        "id": "78dxwJcf2W30"
      },
      "source": [
        "df_subtracted.head()"
      ],
      "execution_count": null,
      "outputs": []
    },
    {
      "cell_type": "markdown",
      "metadata": {
        "id": "_ddgngXvExdK"
      },
      "source": [
        "Finding the cosine similarity using pairwise distances approach"
      ]
    },
    {
      "cell_type": "code",
      "metadata": {
        "colab": {
          "background_save": true
        },
        "id": "6w_pMqFYExdL"
      },
      "source": [
        "from sklearn.metrics.pairwise import pairwise_distances"
      ],
      "execution_count": null,
      "outputs": []
    },
    {
      "cell_type": "code",
      "metadata": {
        "colab": {
          "background_save": true
        },
        "id": "wvM0YMzqTD6Z"
      },
      "source": [
        "# Item Similarity Matrix\n",
        "item_correlation = 1 - pairwise_distances(df_subtracted.fillna(0), metric='cosine')\n",
        "item_correlation[np.isnan(item_correlation)] = 0\n",
        "print(item_correlation)"
      ],
      "execution_count": null,
      "outputs": []
    },
    {
      "cell_type": "markdown",
      "metadata": {
        "id": "MGf62jf-ExdL"
      },
      "source": [
        "Filtering the correlation only for which the value is greater than 0. (Positively correlated)"
      ]
    },
    {
      "cell_type": "code",
      "metadata": {
        "colab": {
          "background_save": true
        },
        "id": "Ag8UtCCgExdL"
      },
      "source": [
        "item_correlation[item_correlation<0]=0\n",
        "item_correlation"
      ],
      "execution_count": null,
      "outputs": []
    },
    {
      "cell_type": "code",
      "metadata": {
        "colab": {
          "background_save": true
        },
        "id": "C-EiZ7gNAUQS"
      },
      "source": [
        "test.columns"
      ],
      "execution_count": null,
      "outputs": []
    },
    {
      "cell_type": "code",
      "metadata": {
        "colab": {
          "background_save": true
        },
        "id": "d_ExtVCaWiEq"
      },
      "source": [
        "common =  test[test.item_code.isin(train.item_code)]\n",
        "common.shape"
      ],
      "execution_count": null,
      "outputs": []
    },
    {
      "cell_type": "code",
      "metadata": {
        "colab": {
          "background_save": true
        },
        "id": "uXgx9w9c0ti5"
      },
      "source": [
        "common.head(4)"
      ],
      "execution_count": null,
      "outputs": []
    },
    {
      "cell_type": "code",
      "metadata": {
        "colab": {
          "background_save": true
        },
        "id": "3xinGmbxHdsL"
      },
      "source": [
        "common_item_based_matrix = common.pivot_table(index='consumer_code', columns='item_code', values='interaction_type').T"
      ],
      "execution_count": null,
      "outputs": []
    },
    {
      "cell_type": "code",
      "metadata": {
        "colab": {
          "background_save": true
        },
        "id": "bj7SQa36H2tC"
      },
      "source": [
        "common_item_based_matrix.shape"
      ],
      "execution_count": null,
      "outputs": []
    },
    {
      "cell_type": "code",
      "metadata": {
        "colab": {
          "background_save": true
        },
        "id": "n80CcpaX1UQ8"
      },
      "source": [
        "item_correlation_df = pd.DataFrame(item_correlation)"
      ],
      "execution_count": null,
      "outputs": []
    },
    {
      "cell_type": "code",
      "metadata": {
        "colab": {
          "background_save": true
        },
        "id": "OTOgMuup1g_G"
      },
      "source": [
        "item_correlation_df.head(1)"
      ],
      "execution_count": null,
      "outputs": []
    },
    {
      "cell_type": "code",
      "metadata": {
        "colab": {
          "background_save": true
        },
        "id": "EA7LH-mK1dUM"
      },
      "source": [
        "item_correlation_df['item_code'] = df_subtracted.index\n",
        "item_correlation_df.set_index('item_code',inplace=True)\n",
        "item_correlation_df.head()"
      ],
      "execution_count": null,
      "outputs": []
    },
    {
      "cell_type": "code",
      "metadata": {
        "colab": {
          "background_save": true
        },
        "id": "qIjL6zHB1-45"
      },
      "source": [
        "list_name = common.item_code.tolist()"
      ],
      "execution_count": null,
      "outputs": []
    },
    {
      "cell_type": "code",
      "metadata": {
        "colab": {
          "background_save": true
        },
        "id": "sLYXW2c42EjC"
      },
      "source": [
        "item_correlation_df.columns = df_subtracted.index.tolist()\n",
        "\n",
        "item_correlation_df_1 =  item_correlation_df[item_correlation_df.index.isin(list_name)]"
      ],
      "execution_count": null,
      "outputs": []
    },
    {
      "cell_type": "code",
      "metadata": {
        "colab": {
          "background_save": true
        },
        "id": "r5PhoITK2L9i"
      },
      "source": [
        "item_correlation_df_2 = item_correlation_df_1.T[item_correlation_df_1.T.index.isin(list_name)]\n",
        "\n",
        "item_correlation_df_3 = item_correlation_df_2.T"
      ],
      "execution_count": null,
      "outputs": []
    },
    {
      "cell_type": "code",
      "metadata": {
        "colab": {
          "background_save": true
        },
        "id": "A9CBf1QCfiwB"
      },
      "source": [
        "item_correlation_df_3.head()"
      ],
      "execution_count": null,
      "outputs": []
    },
    {
      "cell_type": "code",
      "metadata": {
        "colab": {
          "background_save": true
        },
        "id": "8d2XAuXw2SgZ"
      },
      "source": [
        "item_correlation_df_3[item_correlation_df_3<0]=0\n",
        "\n",
        "common_item_predicted_ratings = np.dot(item_correlation_df_3, common_item_based_matrix.fillna(0))\n",
        "common_item_predicted_ratings\n"
      ],
      "execution_count": null,
      "outputs": []
    },
    {
      "cell_type": "code",
      "metadata": {
        "colab": {
          "background_save": true
        },
        "id": "-7SeXXO_bHfM"
      },
      "source": [
        "common_item_predicted_ratings.shape"
      ],
      "execution_count": null,
      "outputs": []
    },
    {
      "cell_type": "markdown",
      "metadata": {
        "id": "ZA5m3_ZFe3-D"
      },
      "source": [
        "Dummy test will be used for evaluation. To evaluate, we will only make prediction on the movies rated by the user. So, this is marked as 1. This is just opposite of dummy_train\n",
        "\n"
      ]
    },
    {
      "cell_type": "code",
      "metadata": {
        "colab": {
          "background_save": true
        },
        "id": "hq4n5DKn2azL"
      },
      "source": [
        "dummy_test = common.copy()\n",
        "\n",
        "dummy_test['interaction_type'] = dummy_test['interaction_type'].apply(lambda x: 1 if x>=1 else 0)\n",
        "\n",
        "dummy_test = dummy_test.pivot_table(index='consumer_code', columns='item_code', values='interaction_type').T.fillna(0)\n",
        "\n",
        "common_item_predicted_ratings = np.multiply(common_item_predicted_ratings,dummy_test)"
      ],
      "execution_count": null,
      "outputs": []
    },
    {
      "cell_type": "markdown",
      "metadata": {
        "id": "AJr9sueCe-pW"
      },
      "source": [
        "The products not rated is marked as 0 for evaluation. And make the item- item matrix representaion.\n"
      ]
    },
    {
      "cell_type": "code",
      "metadata": {
        "colab": {
          "background_save": true
        },
        "id": "Qd8zErT6H7PH"
      },
      "source": [
        "common_ = common.pivot_table(index='consumer_code', columns='item_code', values='interaction_type').T"
      ],
      "execution_count": null,
      "outputs": []
    },
    {
      "cell_type": "code",
      "metadata": {
        "colab": {
          "background_save": true
        },
        "id": "SbTJc6tmIm-d"
      },
      "source": [
        "from sklearn.preprocessing import MinMaxScaler\n",
        "from numpy import *\n",
        "\n",
        "X  = common_item_predicted_ratings.copy() \n",
        "X = X[X>0]\n",
        "\n",
        "scaler = MinMaxScaler(feature_range=(1, 5))\n",
        "print(scaler.fit(X))\n",
        "y = (scaler.transform(X))\n",
        "\n",
        "print(y)"
      ],
      "execution_count": null,
      "outputs": []
    },
    {
      "cell_type": "code",
      "metadata": {
        "colab": {
          "background_save": true
        },
        "id": "xLvB_o4lDvli"
      },
      "source": [
        "# Finding total non-NaN value\n",
        "total_non_nan = np.count_nonzero(~np.isnan(y))"
      ],
      "execution_count": null,
      "outputs": []
    },
    {
      "cell_type": "code",
      "metadata": {
        "colab": {
          "background_save": true
        },
        "id": "DEFC02uXIneM"
      },
      "source": [
        "rmse = (sum(sum((common_ - y )**2))/total_non_nan)**0.5\n",
        "print(rmse)"
      ],
      "execution_count": null,
      "outputs": []
    },
    {
      "cell_type": "code",
      "metadata": {
        "colab": {
          "background_save": true
        },
        "id": "VKbvESVQiEWK"
      },
      "source": [
        ""
      ],
      "execution_count": null,
      "outputs": []
    },
    {
      "cell_type": "markdown",
      "metadata": {
        "id": "Gu6-dXa8VOvf"
      },
      "source": [
        "### The RMSE value is not showing much difference in User based & Item Based recommendation system. \n",
        "However by checking the user based recommendations result I am finalizing the hybrid Model - user based & content based recommendation system."
      ]
    },
    {
      "cell_type": "code",
      "metadata": {
        "id": "SCv5URUXVjrF"
      },
      "source": [
        ""
      ],
      "execution_count": null,
      "outputs": []
    }
  ]
}